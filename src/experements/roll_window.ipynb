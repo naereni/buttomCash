{
 "cells": [
  {
   "attachments": {},
   "cell_type": "markdown",
   "metadata": {},
   "source": [
    "#### Простая моделька на скользящем окне, которая по кд выдает линейку между двумя предыдущими значениями"
   ]
  },
  {
   "cell_type": "code",
   "execution_count": 1,
   "metadata": {},
   "outputs": [
    {
     "name": "stdout",
     "output_type": "stream",
     "text": [
      "Enabling notebook extension jupyter-js-widgets/extension...\n",
      "      - Validating: \u001b[32mOK\u001b[0m\n"
     ]
    }
   ],
   "source": [
    "!jupyter nbextension enable --py widgetsnbextension"
   ]
  },
  {
   "cell_type": "code",
   "execution_count": 2,
   "metadata": {
    "id": "z68p_q4eISQP"
   },
   "outputs": [],
   "source": [
    "import numpy as np\n",
    "import pandas as pd\n",
    "from datetime import datetime\n",
    "from dataclasses import dataclass\n",
    "\n",
    "import torch\n",
    "import torch.nn as nn\n",
    "import torch.nn.functional as F\n",
    "import torch.optim as optim\n",
    "from torch.utils.data import Dataset\n",
    "from torch.utils.data import DataLoader\n",
    "from pytorch_lightning import LightningModule, Trainer\n",
    "from pytorch_lightning.callbacks import RichProgressBar\n",
    "\n",
    "from sklearn.preprocessing import StandardScaler\n",
    "from sklearn.metrics import f1_score\n",
    "\n",
    "import plotly.graph_objects as go\n",
    "import matplotlib.pyplot as plt\n",
    "from matplotlib.pyplot import figure\n",
    "from tqdm.notebook import tqdm, tnrange\n",
    "\n",
    "%matplotlib inline"
   ]
  },
  {
   "cell_type": "code",
   "execution_count": 3,
   "metadata": {
    "id": "FUcYIRwMIVPV"
   },
   "outputs": [],
   "source": [
    "@dataclass\n",
    "class Config:\n",
    "    # data\n",
    "    symbol = \"LTC/USDT\"\n",
    "    path = \"/home/naer/work/buttomCash/src/data/BTС-Minute.csv\"\n",
    "    window_size = 6 * 30 * 2 + 1\n",
    "    train_split_size = 0.9\n",
    "\n",
    "    # model\n",
    "    input_size = window_size - 1\n",
    "    num_lstm_layers = 4\n",
    "    hidden_size = 128\n",
    "    dropout = 0.0\n",
    "    num_classes = 2\n",
    "\n",
    "    # training\n",
    "    device = (\"cpu\",)  # \"cuda\" or \"cpu\"\n",
    "    batch_size = 30\n",
    "    num_epoch = 3\n",
    "    learning_rate = 3e-4\n",
    "    scheduler_step_size = 100\n",
    "\n",
    "    # backtesting\n",
    "    init_margin = 50\n",
    "    imr = 20\n",
    "\n",
    "\n",
    "config = Config()"
   ]
  },
  {
   "cell_type": "code",
   "execution_count": 4,
   "metadata": {
    "colab": {
     "base_uri": "https://localhost:8080/",
     "height": 492
    },
    "id": "j7bWYyArIVRq",
    "outputId": "9e7241e4-b0a3-418e-f269-f5fec60d07ed"
   },
   "outputs": [
    {
     "name": "stdout",
     "output_type": "stream",
     "text": [
      "Number data points: 11148 from 2017-01-01 00:01:00 to 2022-03-01 03:22:00\n"
     ]
    }
   ],
   "source": [
    "def load_data(config, data_range=None):\n",
    "    data = pd.read_csv(config.path)[data_range:]\n",
    "\n",
    "    data = data.sort_values(by=\"date\")\n",
    "    data_date = data[\"date\"].to_list()\n",
    "    data_date = [data_date[i] for i in range(0, len(data_date), 60 * 4)]\n",
    "    data_close_price = data[\"close\"].to_list()\n",
    "    data_close_price = [\n",
    "        data_close_price[i] for i in range(0, len(data_close_price), 60 * 4)\n",
    "    ]\n",
    "    data_close_price = np.array(data_close_price)\n",
    "    data = data.set_index(\"date\")\n",
    "\n",
    "    num_data_points = len(data_date)\n",
    "    display_date_range = (\n",
    "        \"from \" + data_date[0] + \" to \" + data_date[num_data_points - 1]\n",
    "    )\n",
    "    print(\"Number data points:\", num_data_points, display_date_range)\n",
    "\n",
    "    return data_date, data_close_price, data\n",
    "\n",
    "\n",
    "data_date, data_close_price, data = load_data(config)"
   ]
  },
  {
   "cell_type": "code",
   "execution_count": 5,
   "metadata": {
    "colab": {
     "base_uri": "https://localhost:8080/",
     "height": 474
    },
    "id": "5cinhNa4JRHu",
    "outputId": "4be4ffcf-9ffd-4d22-a28b-c33ec76ea0e3"
   },
   "outputs": [
    {
     "data": {
      "application/vnd.jupyter.widget-view+json": {
       "model_id": "08a4b8ce54e847c99d92bef19ff94470",
       "version_major": 2,
       "version_minor": 0
      },
      "text/plain": [
       "  0%|          | 0/10788 [00:00<?, ?it/s]"
      ]
     },
     "metadata": {},
     "output_type": "display_data"
    }
   ],
   "source": [
    "def prepare_data(x, window_size):\n",
    "    scaler = StandardScaler()\n",
    "    n_row = x.shape[0] - window_size + 1\n",
    "    strides = np.lib.stride_tricks.as_strided(\n",
    "        x, shape=(n_row, window_size), strides=(x.strides[0], x.strides[0])\n",
    "    )\n",
    "    X = np.empty([1, window_size - 1])\n",
    "    y_delta = np.empty([1, 1])\n",
    "    y_last_new = np.empty([1, 2])\n",
    "    y_binary = np.empty([1, 2])\n",
    "    for stride in tqdm(strides):\n",
    "        last_price, new_price = stride[-2], stride[-1]\n",
    "        y_last_new = np.concatenate(\n",
    "            (y_last_new, np.array([last_price, new_price]).reshape(1, -1)),\n",
    "            axis=0,\n",
    "        )\n",
    "\n",
    "        delta = round((new_price / last_price - 1) * 100, 1)\n",
    "        if delta > 0:\n",
    "            delta_positive = np.array([1, 0])\n",
    "        else:\n",
    "            delta_positive = np.array([0, 1])\n",
    "\n",
    "        norm_stride = scaler.fit_transform(\n",
    "            stride[:-1].reshape(1, -1).T\n",
    "        ).reshape(1, -1)\n",
    "        X = np.concatenate((X, norm_stride), axis=0)\n",
    "        y_delta = np.concatenate(\n",
    "            (y_delta, np.array([delta]).reshape(1, -1)), axis=0\n",
    "        )\n",
    "        y_binary = np.concatenate(\n",
    "            (y_binary, delta_positive.reshape(1, -1)), axis=0\n",
    "        )\n",
    "\n",
    "    return X[1:], y_delta[1:], y_last_new[1:], y_binary[1:]\n",
    "\n",
    "\n",
    "def get_train_test_data(data_close_price, config):\n",
    "    X, y_delta, _, y_binary = prepare_data(\n",
    "        data_close_price, window_size=config.window_size\n",
    "    )\n",
    "    split_index = int(y_delta.shape[0] * config.train_split_size)\n",
    "\n",
    "    data_x_train = X[:split_index]\n",
    "    data_x_val = X[split_index:]\n",
    "\n",
    "    data_y_delta_train = y_delta[:split_index]\n",
    "    data_y_delta_val = y_delta[split_index:]\n",
    "\n",
    "    data_y_binary_train = y_binary[:split_index]\n",
    "    data_y_binary_val = y_binary[split_index:]\n",
    "\n",
    "    return (\n",
    "        data_x_train,\n",
    "        data_y_delta_train,\n",
    "        data_y_binary_train,\n",
    "        data_x_val,\n",
    "        data_y_delta_val,\n",
    "        data_y_binary_val,\n",
    "    )\n",
    "\n",
    "\n",
    "(\n",
    "    data_x_train,\n",
    "    data_y_delta_train,\n",
    "    data_y_binary_train,\n",
    "    data_x_val,\n",
    "    data_y_delta_val,\n",
    "    data_y_binary_val,\n",
    ") = get_train_test_data(data_close_price, config)"
   ]
  },
  {
   "cell_type": "code",
   "execution_count": 6,
   "metadata": {
    "colab": {
     "base_uri": "https://localhost:8080/"
    },
    "id": "begE6wtnJRL9",
    "outputId": "3d5d1c1f-c4f5-4d51-ab6c-95804debb18f"
   },
   "outputs": [
    {
     "name": "stdout",
     "output_type": "stream",
     "text": [
      "Train data shape (9709, 1, 360) (9709, 2)\n",
      "Validation data shape (1079, 1, 360) (1079, 2)\n"
     ]
    }
   ],
   "source": [
    "class TimeSeriesDataset(Dataset):\n",
    "    def __init__(self, x, y):\n",
    "        x = np.expand_dims(x, 2)\n",
    "        self.x = x.astype(np.float32).reshape(-1, 1, config.window_size - 1)\n",
    "        self.y = y.astype(np.float32)\n",
    "\n",
    "    def __len__(self):\n",
    "        return len(self.x)\n",
    "\n",
    "    def __getitem__(self, idx):\n",
    "        return (self.x[idx], self.y[idx])\n",
    "\n",
    "\n",
    "dataset_train = TimeSeriesDataset(data_x_train, data_y_binary_train)\n",
    "dataset_val = TimeSeriesDataset(data_x_val, data_y_binary_val)\n",
    "\n",
    "print(\"Train data shape\", dataset_train.x.shape, dataset_train.y.shape)\n",
    "print(\"Validation data shape\", dataset_val.x.shape, dataset_val.y.shape)"
   ]
  },
  {
   "cell_type": "code",
   "execution_count": 7,
   "metadata": {},
   "outputs": [],
   "source": [
    "class RNN_GRU(LightningModule):\n",
    "    def __init__(self, config):\n",
    "        super(RNN_GRU, self).__init__()\n",
    "        self.config = config\n",
    "\n",
    "        self.gru = nn.GRU(\n",
    "            self.config.input_size,\n",
    "            self.config.hidden_size,\n",
    "            self.config.num_lstm_layers,\n",
    "            batch_first=True,\n",
    "        )\n",
    "        self.fc = nn.Linear(self.config.hidden_size, self.config.num_classes)\n",
    "\n",
    "        self.loss_function = nn.CrossEntropyLoss()\n",
    "\n",
    "    def forward(self, x):\n",
    "        h0 = torch.zeros(\n",
    "            self.config.num_lstm_layers, x.size(0), self.config.hidden_size\n",
    "        )\n",
    "        out, _ = self.gru(x, h0)\n",
    "        out = self.fc(out[:, -1, :])\n",
    "        return out\n",
    "\n",
    "    def predict(self, x):\n",
    "        self.eval()\n",
    "        h0 = torch.zeros(\n",
    "            self.config.num_lstm_layers, x.size(0), self.config.hidden_size\n",
    "        )\n",
    "        out, _ = self.gru(x, h0)\n",
    "        out = self.fc(out[:, -1, :])\n",
    "        ans = int(torch.argmax(out))\n",
    "        return ans\n",
    "\n",
    "    def metric(self, pred, target):\n",
    "        pred, target = torch.argmax(pred, dim=1), torch.argmax(target, dim=1)\n",
    "        acc = (pred == target).float().mean().item()\n",
    "        f1 = float(f1_score(target, pred, average=\"macro\"))\n",
    "        return acc, f1\n",
    "\n",
    "    def training_step(self, batch, batch_idx):\n",
    "        x, y = batch\n",
    "        y_hat = self.forward(x)\n",
    "        loss = self.loss_function(y_hat, y)\n",
    "        acc, f1 = self.metric(y_hat, y)\n",
    "        self.log(\"train_loss\", loss.item(), prog_bar=True)\n",
    "        self.log(\"train_acc\", acc, prog_bar=True)\n",
    "        self.log(\"train_f1\", f1, prog_bar=True)\n",
    "        return loss\n",
    "\n",
    "    def validation_step(self, batch, batch_idx):\n",
    "        x, y = batch\n",
    "        y_hat = self.forward(x)\n",
    "        loss = self.loss_function(y_hat, y)\n",
    "        acc, f1 = self.metric(y_hat, y)\n",
    "        self.log(\"val_loss\", loss.item(), prog_bar=True)\n",
    "        self.log(\"val_acc\", acc, prog_bar=True)\n",
    "        self.log(\"val_f1\", f1, prog_bar=True)\n",
    "\n",
    "    def configure_optimizers(self):\n",
    "        optimizer = optim.Adam(self.parameters(), lr=self.config.learning_rate)\n",
    "        return optimizer\n",
    "\n",
    "    def train_dataloader(self):\n",
    "        train_dataloader = DataLoader(\n",
    "            dataset_train,\n",
    "            batch_size=config.batch_size,\n",
    "            shuffle=True,\n",
    "            num_workers=6,\n",
    "        )\n",
    "        return train_dataloader\n",
    "\n",
    "    def val_dataloader(self):\n",
    "        val_dataloader = DataLoader(\n",
    "            dataset_val,\n",
    "            batch_size=config.batch_size,\n",
    "            shuffle=False,\n",
    "            num_workers=6,\n",
    "        )\n",
    "        return val_dataloader\n",
    "\n",
    "\n",
    "model = RNN_GRU(config)"
   ]
  },
  {
   "cell_type": "code",
   "execution_count": 14,
   "metadata": {},
   "outputs": [
    {
     "name": "stderr",
     "output_type": "stream",
     "text": [
      "GPU available: False, used: False\n",
      "TPU available: False, using: 0 TPU cores\n",
      "IPU available: False, using: 0 IPUs\n",
      "HPU available: False, using: 0 HPUs\n"
     ]
    },
    {
     "data": {
      "text/html": [
       "<pre style=\"white-space:pre;overflow-x:auto;line-height:normal;font-family:Menlo,'DejaVu Sans Mono',consolas,'Courier New',monospace\">┏━━━┳━━━━━━━━━━━━━━━┳━━━━━━━━━━━━━━━━━━┳━━━━━━━━┓\n",
       "┃<span style=\"color: #800080; text-decoration-color: #800080; font-weight: bold\">   </span>┃<span style=\"color: #800080; text-decoration-color: #800080; font-weight: bold\"> Name          </span>┃<span style=\"color: #800080; text-decoration-color: #800080; font-weight: bold\"> Type             </span>┃<span style=\"color: #800080; text-decoration-color: #800080; font-weight: bold\"> Params </span>┃\n",
       "┡━━━╇━━━━━━━━━━━━━━━╇━━━━━━━━━━━━━━━━━━╇━━━━━━━━┩\n",
       "│<span style=\"color: #7f7f7f; text-decoration-color: #7f7f7f\"> 0 </span>│ gru           │ GRU              │  485 K │\n",
       "│<span style=\"color: #7f7f7f; text-decoration-color: #7f7f7f\"> 1 </span>│ fc            │ Linear           │    258 │\n",
       "│<span style=\"color: #7f7f7f; text-decoration-color: #7f7f7f\"> 2 </span>│ loss_function │ CrossEntropyLoss │      0 │\n",
       "└───┴───────────────┴──────────────────┴────────┘\n",
       "</pre>\n"
      ],
      "text/plain": [
       "┏━━━┳━━━━━━━━━━━━━━━┳━━━━━━━━━━━━━━━━━━┳━━━━━━━━┓\n",
       "┃\u001b[1;35m \u001b[0m\u001b[1;35m \u001b[0m\u001b[1;35m \u001b[0m┃\u001b[1;35m \u001b[0m\u001b[1;35mName         \u001b[0m\u001b[1;35m \u001b[0m┃\u001b[1;35m \u001b[0m\u001b[1;35mType            \u001b[0m\u001b[1;35m \u001b[0m┃\u001b[1;35m \u001b[0m\u001b[1;35mParams\u001b[0m\u001b[1;35m \u001b[0m┃\n",
       "┡━━━╇━━━━━━━━━━━━━━━╇━━━━━━━━━━━━━━━━━━╇━━━━━━━━┩\n",
       "│\u001b[2m \u001b[0m\u001b[2m0\u001b[0m\u001b[2m \u001b[0m│ gru           │ GRU              │  485 K │\n",
       "│\u001b[2m \u001b[0m\u001b[2m1\u001b[0m\u001b[2m \u001b[0m│ fc            │ Linear           │    258 │\n",
       "│\u001b[2m \u001b[0m\u001b[2m2\u001b[0m\u001b[2m \u001b[0m│ loss_function │ CrossEntropyLoss │      0 │\n",
       "└───┴───────────────┴──────────────────┴────────┘\n"
      ]
     },
     "metadata": {},
     "output_type": "display_data"
    },
    {
     "data": {
      "text/html": [
       "<pre style=\"white-space:pre;overflow-x:auto;line-height:normal;font-family:Menlo,'DejaVu Sans Mono',consolas,'Courier New',monospace\"><span style=\"font-weight: bold\">Trainable params</span>: 485 K                                                                                            \n",
       "<span style=\"font-weight: bold\">Non-trainable params</span>: 0                                                                                            \n",
       "<span style=\"font-weight: bold\">Total params</span>: 485 K                                                                                                \n",
       "<span style=\"font-weight: bold\">Total estimated model params size (MB)</span>: 1                                                                          \n",
       "</pre>\n"
      ],
      "text/plain": [
       "\u001b[1mTrainable params\u001b[0m: 485 K                                                                                            \n",
       "\u001b[1mNon-trainable params\u001b[0m: 0                                                                                            \n",
       "\u001b[1mTotal params\u001b[0m: 485 K                                                                                                \n",
       "\u001b[1mTotal estimated model params size (MB)\u001b[0m: 1                                                                          \n"
      ]
     },
     "metadata": {},
     "output_type": "display_data"
    },
    {
     "data": {
      "application/vnd.jupyter.widget-view+json": {
       "model_id": "6fa043336acc4fc89d4df42f8254ca07",
       "version_major": 2,
       "version_minor": 0
      },
      "text/plain": [
       "Output()"
      ]
     },
     "metadata": {},
     "output_type": "display_data"
    },
    {
     "name": "stderr",
     "output_type": "stream",
     "text": [
      "`Trainer.fit` stopped: `max_epochs=3` reached.\n"
     ]
    },
    {
     "data": {
      "text/html": [
       "<pre style=\"white-space:pre;overflow-x:auto;line-height:normal;font-family:Menlo,'DejaVu Sans Mono',consolas,'Courier New',monospace\"></pre>\n"
      ],
      "text/plain": []
     },
     "metadata": {},
     "output_type": "display_data"
    },
    {
     "data": {
      "text/html": [
       "<pre style=\"white-space:pre;overflow-x:auto;line-height:normal;font-family:Menlo,'DejaVu Sans Mono',consolas,'Courier New',monospace\">\n",
       "</pre>\n"
      ],
      "text/plain": [
       "\n"
      ]
     },
     "metadata": {},
     "output_type": "display_data"
    }
   ],
   "source": [
    "trainer = Trainer(\n",
    "    max_epochs=config.num_epoch,\n",
    "    accelerator=\"auto\",\n",
    "    # devices= 1 if torch.cuda.is_available() else None,\n",
    "    callbacks=[RichProgressBar()],\n",
    ")\n",
    "trainer.fit(model)"
   ]
  },
  {
   "cell_type": "code",
   "execution_count": 15,
   "metadata": {},
   "outputs": [
    {
     "data": {
      "application/vnd.jupyter.widget-view+json": {
       "model_id": "cbbc0afc5f764c5faf4653bfc1a0dda1",
       "version_major": 2,
       "version_minor": 0
      },
      "text/plain": [
       "Output()"
      ]
     },
     "metadata": {},
     "output_type": "display_data"
    },
    {
     "data": {
      "text/html": [
       "<pre style=\"white-space:pre;overflow-x:auto;line-height:normal;font-family:Menlo,'DejaVu Sans Mono',consolas,'Courier New',monospace\">┏━━━━━━━━━━━━━━━━━━━━━━━━━━━┳━━━━━━━━━━━━━━━━━━━━━━━━━━━┓\n",
       "┃<span style=\"font-weight: bold\">  Runningstage.validating  </span>┃<span style=\"font-weight: bold\">                           </span>┃\n",
       "┃<span style=\"font-weight: bold\">          metric           </span>┃<span style=\"font-weight: bold\">       DataLoader 0        </span>┃\n",
       "┡━━━━━━━━━━━━━━━━━━━━━━━━━━━╇━━━━━━━━━━━━━━━━━━━━━━━━━━━┩\n",
       "│<span style=\"color: #008080; text-decoration-color: #008080\">          val_acc          </span>│<span style=\"color: #800080; text-decoration-color: #800080\">    0.5097312331199646     </span>│\n",
       "│<span style=\"color: #008080; text-decoration-color: #008080\">          val_f1           </span>│<span style=\"color: #800080; text-decoration-color: #800080\">    0.37042734026908875    </span>│\n",
       "│<span style=\"color: #008080; text-decoration-color: #008080\">         val_loss          </span>│<span style=\"color: #800080; text-decoration-color: #800080\">    0.6949372291564941     </span>│\n",
       "└───────────────────────────┴───────────────────────────┘\n",
       "</pre>\n"
      ],
      "text/plain": [
       "┏━━━━━━━━━━━━━━━━━━━━━━━━━━━┳━━━━━━━━━━━━━━━━━━━━━━━━━━━┓\n",
       "┃\u001b[1m \u001b[0m\u001b[1m Runningstage.validating \u001b[0m\u001b[1m \u001b[0m┃\u001b[1m                           \u001b[0m┃\n",
       "┃\u001b[1m \u001b[0m\u001b[1m         metric          \u001b[0m\u001b[1m \u001b[0m┃\u001b[1m \u001b[0m\u001b[1m      DataLoader 0       \u001b[0m\u001b[1m \u001b[0m┃\n",
       "┡━━━━━━━━━━━━━━━━━━━━━━━━━━━╇━━━━━━━━━━━━━━━━━━━━━━━━━━━┩\n",
       "│\u001b[36m \u001b[0m\u001b[36m         val_acc         \u001b[0m\u001b[36m \u001b[0m│\u001b[35m \u001b[0m\u001b[35m   0.5097312331199646    \u001b[0m\u001b[35m \u001b[0m│\n",
       "│\u001b[36m \u001b[0m\u001b[36m         val_f1          \u001b[0m\u001b[36m \u001b[0m│\u001b[35m \u001b[0m\u001b[35m   0.37042734026908875   \u001b[0m\u001b[35m \u001b[0m│\n",
       "│\u001b[36m \u001b[0m\u001b[36m        val_loss         \u001b[0m\u001b[36m \u001b[0m│\u001b[35m \u001b[0m\u001b[35m   0.6949372291564941    \u001b[0m\u001b[35m \u001b[0m│\n",
       "└───────────────────────────┴───────────────────────────┘\n"
      ]
     },
     "metadata": {},
     "output_type": "display_data"
    },
    {
     "data": {
      "text/html": [
       "<pre style=\"white-space:pre;overflow-x:auto;line-height:normal;font-family:Menlo,'DejaVu Sans Mono',consolas,'Courier New',monospace\"></pre>\n"
      ],
      "text/plain": []
     },
     "metadata": {},
     "output_type": "display_data"
    },
    {
     "data": {
      "text/html": [
       "<pre style=\"white-space:pre;overflow-x:auto;line-height:normal;font-family:Menlo,'DejaVu Sans Mono',consolas,'Courier New',monospace\">\n",
       "</pre>\n"
      ],
      "text/plain": [
       "\n"
      ]
     },
     "metadata": {},
     "output_type": "display_data"
    },
    {
     "data": {
      "text/plain": [
       "[{'val_loss': 0.6949372291564941,\n",
       "  'val_acc': 0.5097312331199646,\n",
       "  'val_f1': 0.37042734026908875}]"
      ]
     },
     "execution_count": 15,
     "metadata": {},
     "output_type": "execute_result"
    }
   ],
   "source": [
    "trainer.validate(model)"
   ]
  }
 ],
 "metadata": {
  "accelerator": "GPU",
  "colab": {
   "gpuType": "T4",
   "provenance": [],
   "toc_visible": true
  },
  "gpuClass": "standard",
  "kernelspec": {
   "display_name": "Python 3",
   "name": "python3"
  },
  "language_info": {
   "codemirror_mode": {
    "name": "ipython",
    "version": 3
   },
   "file_extension": ".py",
   "mimetype": "text/x-python",
   "name": "python",
   "nbconvert_exporter": "python",
   "pygments_lexer": "ipython3",
   "version": "3.11.3"
  }
 },
 "nbformat": 4,
 "nbformat_minor": 0
}
