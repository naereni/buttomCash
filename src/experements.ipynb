{
 "cells": [
  {
   "attachments": {},
   "cell_type": "markdown",
   "metadata": {},
   "source": [
    "## TODO\n",
    "+ Сделать функу по добавлению всех данных в датасет по дате\n",
    "+ Добавить фич в данные (индикаторы, на основе timestamp, TA-Lib)\n",
    "+ Добавить еще несколько слоев GRU в архитектуру модели"
   ]
  },
  {
   "cell_type": "code",
   "execution_count": 1,
   "metadata": {},
   "outputs": [
    {
     "name": "stdout",
     "output_type": "stream",
     "text": [
      "Enabling notebook extension jupyter-js-widgets/extension...\n",
      "      - Validating: \u001b[32mOK\u001b[0m\n"
     ]
    }
   ],
   "source": [
    "!jupyter nbextension enable --py widgetsnbextension"
   ]
  },
  {
   "cell_type": "code",
   "execution_count": 3,
   "metadata": {},
   "outputs": [
    {
     "data": {
      "text/plain": [
       "['2023-06-25', '2023-06-26']"
      ]
     },
     "execution_count": 3,
     "metadata": {},
     "output_type": "execute_result"
    }
   ],
   "source": [
    "from datetime import datetime\n",
    "import pandas as pd\n",
    "def get_missing_dates(start_date: str) -> list[str]:\n",
    "    today = datetime.today().strftime(\"%Y-%m-%d\")\n",
    "    miss_dates = pd.date_range(start=start_date, end=today, inclusive='left').to_list()\n",
    "    miss_dates = [date.strftime(\"%Y-%m-%d\") for date in miss_dates]\n",
    "    return miss_dates\n",
    "get_missing_dates('2023-06-25')"
   ]
  },
  {
   "cell_type": "code",
   "execution_count": 2,
   "metadata": {
    "id": "z68p_q4eISQP"
   },
   "outputs": [],
   "source": [
    "import numpy as np\n",
    "import pandas as pd\n",
    "from datetime import datetime\n",
    "from dataclasses import dataclass\n",
    "\n",
    "import torch\n",
    "import torch.nn as nn\n",
    "import torch.nn.functional as F\n",
    "import torch.optim as optim\n",
    "from torch.utils.data import Dataset\n",
    "from torch.utils.data import DataLoader\n",
    "from pytorch_lightning import LightningModule, Trainer\n",
    "from pytorch_lightning.callbacks import RichProgressBar\n",
    "\n",
    "from sklearn.preprocessing import StandardScaler\n",
    "from sklearn.metrics import f1_score\n",
    "\n",
    "import plotly.graph_objects as go\n",
    "import matplotlib.pyplot as plt\n",
    "from matplotlib.pyplot import figure\n",
    "from tqdm.notebook import tqdm, tnrange\n",
    "\n",
    "%matplotlib inline"
   ]
  },
  {
   "cell_type": "code",
   "execution_count": 3,
   "metadata": {
    "id": "FUcYIRwMIVPV"
   },
   "outputs": [],
   "source": [
    "@dataclass\n",
    "class Config:\n",
    "    # data\n",
    "    symbol = \"LTC/USDT\"\n",
    "    path = \"/home/naer/work/buttomCash/src/data/BTС-Minute.csv\"\n",
    "    window_size = 6 * 30 * 2 + 1\n",
    "    train_split_size = 0.9\n",
    "\n",
    "    # model\n",
    "    input_size = window_size - 1\n",
    "    num_lstm_layers = 4\n",
    "    hidden_size = 128\n",
    "    dropout = 0.0\n",
    "    num_classes = 2\n",
    "\n",
    "    # training\n",
    "    device = (\"cpu\",)  # \"cuda\" or \"cpu\"\n",
    "    batch_size = 30\n",
    "    num_epoch = 3\n",
    "    learning_rate = 3e-4\n",
    "    scheduler_step_size = 100\n",
    "\n",
    "    # backtesting\n",
    "    init_margin = 50\n",
    "    imr = 20\n",
    "\n",
    "\n",
    "config = Config()"
   ]
  },
  {
   "cell_type": "code",
   "execution_count": 4,
   "metadata": {
    "colab": {
     "base_uri": "https://localhost:8080/",
     "height": 492
    },
    "id": "j7bWYyArIVRq",
    "outputId": "9e7241e4-b0a3-418e-f269-f5fec60d07ed"
   },
   "outputs": [
    {
     "name": "stdout",
     "output_type": "stream",
     "text": [
      "Number data points: 11148 from 2017-01-01 00:01:00 to 2022-03-01 03:22:00\n"
     ]
    }
   ],
   "source": [
    "def load_data(config, data_range=None):\n",
    "    data = pd.read_csv(config.path)[data_range:]\n",
    "\n",
    "    data = data.sort_values(by=\"date\")\n",
    "    data_date = data[\"date\"].to_list()\n",
    "    data_date = [data_date[i] for i in range(0, len(data_date), 60 * 4)]\n",
    "    data_close_price = data[\"close\"].to_list()\n",
    "    data_close_price = [\n",
    "        data_close_price[i] for i in range(0, len(data_close_price), 60 * 4)\n",
    "    ]\n",
    "    data_close_price = np.array(data_close_price)\n",
    "    data = data.set_index(\"date\")\n",
    "\n",
    "    num_data_points = len(data_date)\n",
    "    display_date_range = (\n",
    "        \"from \" + data_date[0] + \" to \" + data_date[num_data_points - 1]\n",
    "    )\n",
    "    print(\"Number data points:\", num_data_points, display_date_range)\n",
    "\n",
    "    return data_date, data_close_price, data\n",
    "\n",
    "\n",
    "data_date, data_close_price, data = load_data(config)"
   ]
  },
  {
   "cell_type": "code",
   "execution_count": 5,
   "metadata": {
    "colab": {
     "base_uri": "https://localhost:8080/",
     "height": 474
    },
    "id": "5cinhNa4JRHu",
    "outputId": "4be4ffcf-9ffd-4d22-a28b-c33ec76ea0e3"
   },
   "outputs": [
    {
     "data": {
      "application/vnd.jupyter.widget-view+json": {
       "model_id": "08a4b8ce54e847c99d92bef19ff94470",
       "version_major": 2,
       "version_minor": 0
      },
      "text/plain": [
       "  0%|          | 0/10788 [00:00<?, ?it/s]"
      ]
     },
     "metadata": {},
     "output_type": "display_data"
    }
   ],
   "source": [
    "def prepare_data(x, window_size):\n",
    "    scaler = StandardScaler()\n",
    "    n_row = x.shape[0] - window_size + 1\n",
    "    strides = np.lib.stride_tricks.as_strided(\n",
    "        x, shape=(n_row, window_size), strides=(x.strides[0], x.strides[0])\n",
    "    )\n",
    "    X = np.empty([1, window_size - 1])\n",
    "    y_delta = np.empty([1, 1])\n",
    "    y_last_new = np.empty([1, 2])\n",
    "    y_binary = np.empty([1, 2])\n",
    "    for stride in tqdm(strides):\n",
    "        last_price, new_price = stride[-2], stride[-1]\n",
    "        y_last_new = np.concatenate(\n",
    "            (y_last_new, np.array([last_price, new_price]).reshape(1, -1)),\n",
    "            axis=0,\n",
    "        )\n",
    "\n",
    "        delta = round((new_price / last_price - 1) * 100, 1)\n",
    "        if delta > 0:\n",
    "            delta_positive = np.array([1, 0])\n",
    "        else:\n",
    "            delta_positive = np.array([0, 1])\n",
    "\n",
    "        norm_stride = scaler.fit_transform(\n",
    "            stride[:-1].reshape(1, -1).T\n",
    "        ).reshape(1, -1)\n",
    "        X = np.concatenate((X, norm_stride), axis=0)\n",
    "        y_delta = np.concatenate(\n",
    "            (y_delta, np.array([delta]).reshape(1, -1)), axis=0\n",
    "        )\n",
    "        y_binary = np.concatenate(\n",
    "            (y_binary, delta_positive.reshape(1, -1)), axis=0\n",
    "        )\n",
    "\n",
    "    return X[1:], y_delta[1:], y_last_new[1:], y_binary[1:]\n",
    "\n",
    "\n",
    "def get_train_test_data(data_close_price, config):\n",
    "    X, y_delta, _, y_binary = prepare_data(\n",
    "        data_close_price, window_size=config.window_size\n",
    "    )\n",
    "    split_index = int(y_delta.shape[0] * config.train_split_size)\n",
    "\n",
    "    data_x_train = X[:split_index]\n",
    "    data_x_val = X[split_index:]\n",
    "\n",
    "    data_y_delta_train = y_delta[:split_index]\n",
    "    data_y_delta_val = y_delta[split_index:]\n",
    "\n",
    "    data_y_binary_train = y_binary[:split_index]\n",
    "    data_y_binary_val = y_binary[split_index:]\n",
    "\n",
    "    return (\n",
    "        data_x_train,\n",
    "        data_y_delta_train,\n",
    "        data_y_binary_train,\n",
    "        data_x_val,\n",
    "        data_y_delta_val,\n",
    "        data_y_binary_val,\n",
    "    )\n",
    "\n",
    "\n",
    "(\n",
    "    data_x_train,\n",
    "    data_y_delta_train,\n",
    "    data_y_binary_train,\n",
    "    data_x_val,\n",
    "    data_y_delta_val,\n",
    "    data_y_binary_val,\n",
    ") = get_train_test_data(data_close_price, config)"
   ]
  },
  {
   "cell_type": "code",
   "execution_count": 6,
   "metadata": {
    "colab": {
     "base_uri": "https://localhost:8080/"
    },
    "id": "begE6wtnJRL9",
    "outputId": "3d5d1c1f-c4f5-4d51-ab6c-95804debb18f"
   },
   "outputs": [
    {
     "name": "stdout",
     "output_type": "stream",
     "text": [
      "Train data shape (9709, 1, 360) (9709, 2)\n",
      "Validation data shape (1079, 1, 360) (1079, 2)\n"
     ]
    }
   ],
   "source": [
    "class TimeSeriesDataset(Dataset):\n",
    "    def __init__(self, x, y):\n",
    "        x = np.expand_dims(x, 2)\n",
    "        self.x = x.astype(np.float32).reshape(-1, 1, config.window_size - 1)\n",
    "        self.y = y.astype(np.float32)\n",
    "\n",
    "    def __len__(self):\n",
    "        return len(self.x)\n",
    "\n",
    "    def __getitem__(self, idx):\n",
    "        return (self.x[idx], self.y[idx])\n",
    "\n",
    "\n",
    "dataset_train = TimeSeriesDataset(data_x_train, data_y_binary_train)\n",
    "dataset_val = TimeSeriesDataset(data_x_val, data_y_binary_val)\n",
    "\n",
    "print(\"Train data shape\", dataset_train.x.shape, dataset_train.y.shape)\n",
    "print(\"Validation data shape\", dataset_val.x.shape, dataset_val.y.shape)"
   ]
  },
  {
   "cell_type": "code",
   "execution_count": 7,
   "metadata": {},
   "outputs": [],
   "source": [
    "class RNN_GRU(LightningModule):\n",
    "    def __init__(self, config):\n",
    "        super(RNN_GRU, self).__init__()\n",
    "        self.config = config\n",
    "\n",
    "        self.gru = nn.GRU(\n",
    "            self.config.input_size,\n",
    "            self.config.hidden_size,\n",
    "            self.config.num_lstm_layers,\n",
    "            batch_first=True,\n",
    "        )\n",
    "        self.fc = nn.Linear(self.config.hidden_size, self.config.num_classes)\n",
    "\n",
    "        self.loss_function = nn.CrossEntropyLoss()\n",
    "\n",
    "    def forward(self, x):\n",
    "        h0 = torch.zeros(\n",
    "            self.config.num_lstm_layers, x.size(0), self.config.hidden_size\n",
    "        )\n",
    "        out, _ = self.gru(x, h0)\n",
    "        out = self.fc(out[:, -1, :])\n",
    "        return out\n",
    "\n",
    "    def predict(self, x):\n",
    "        self.eval()\n",
    "        h0 = torch.zeros(\n",
    "            self.config.num_lstm_layers, x.size(0), self.config.hidden_size\n",
    "        )\n",
    "        out, _ = self.gru(x, h0)\n",
    "        out = self.fc(out[:, -1, :])\n",
    "        ans = int(torch.argmax(out))\n",
    "        return ans\n",
    "\n",
    "    def metric(self, pred, target):\n",
    "        pred, target = torch.argmax(pred, dim=1), torch.argmax(target, dim=1)\n",
    "        acc = (pred == target).float().mean().item()\n",
    "        f1 = float(f1_score(target, pred, average=\"macro\"))\n",
    "        return acc, f1\n",
    "\n",
    "    def training_step(self, batch, batch_idx):\n",
    "        x, y = batch\n",
    "        y_hat = self.forward(x)\n",
    "        loss = self.loss_function(y_hat, y)\n",
    "        acc, f1 = self.metric(y_hat, y)\n",
    "        self.log(\"train_loss\", loss.item(), prog_bar=True)\n",
    "        self.log(\"train_acc\", acc, prog_bar=True)\n",
    "        self.log(\"train_f1\", f1, prog_bar=True)\n",
    "        return loss\n",
    "\n",
    "    def validation_step(self, batch, batch_idx):\n",
    "        x, y = batch\n",
    "        y_hat = self.forward(x)\n",
    "        loss = self.loss_function(y_hat, y)\n",
    "        acc, f1 = self.metric(y_hat, y)\n",
    "        self.log(\"val_loss\", loss.item(), prog_bar=True)\n",
    "        self.log(\"val_acc\", acc, prog_bar=True)\n",
    "        self.log(\"val_f1\", f1, prog_bar=True)\n",
    "\n",
    "    def configure_optimizers(self):\n",
    "        optimizer = optim.Adam(self.parameters(), lr=self.config.learning_rate)\n",
    "        return optimizer\n",
    "\n",
    "    def train_dataloader(self):\n",
    "        train_dataloader = DataLoader(\n",
    "            dataset_train,\n",
    "            batch_size=config.batch_size,\n",
    "            shuffle=True,\n",
    "            num_workers=6,\n",
    "        )\n",
    "        return train_dataloader\n",
    "\n",
    "    def val_dataloader(self):\n",
    "        val_dataloader = DataLoader(\n",
    "            dataset_val,\n",
    "            batch_size=config.batch_size,\n",
    "            shuffle=False,\n",
    "            num_workers=6,\n",
    "        )\n",
    "        return val_dataloader\n",
    "\n",
    "\n",
    "model = RNN_GRU(config)"
   ]
  },
  {
   "cell_type": "code",
   "execution_count": 14,
   "metadata": {},
   "outputs": [
    {
     "name": "stderr",
     "output_type": "stream",
     "text": [
      "GPU available: False, used: False\n",
      "TPU available: False, using: 0 TPU cores\n",
      "IPU available: False, using: 0 IPUs\n",
      "HPU available: False, using: 0 HPUs\n"
     ]
    },
    {
     "data": {
      "text/html": [
       "<pre style=\"white-space:pre;overflow-x:auto;line-height:normal;font-family:Menlo,'DejaVu Sans Mono',consolas,'Courier New',monospace\">┏━━━┳━━━━━━━━━━━━━━━┳━━━━━━━━━━━━━━━━━━┳━━━━━━━━┓\n",
       "┃<span style=\"color: #800080; text-decoration-color: #800080; font-weight: bold\">   </span>┃<span style=\"color: #800080; text-decoration-color: #800080; font-weight: bold\"> Name          </span>┃<span style=\"color: #800080; text-decoration-color: #800080; font-weight: bold\"> Type             </span>┃<span style=\"color: #800080; text-decoration-color: #800080; font-weight: bold\"> Params </span>┃\n",
       "┡━━━╇━━━━━━━━━━━━━━━╇━━━━━━━━━━━━━━━━━━╇━━━━━━━━┩\n",
       "│<span style=\"color: #7f7f7f; text-decoration-color: #7f7f7f\"> 0 </span>│ gru           │ GRU              │  485 K │\n",
       "│<span style=\"color: #7f7f7f; text-decoration-color: #7f7f7f\"> 1 </span>│ fc            │ Linear           │    258 │\n",
       "│<span style=\"color: #7f7f7f; text-decoration-color: #7f7f7f\"> 2 </span>│ loss_function │ CrossEntropyLoss │      0 │\n",
       "└───┴───────────────┴──────────────────┴────────┘\n",
       "</pre>\n"
      ],
      "text/plain": [
       "┏━━━┳━━━━━━━━━━━━━━━┳━━━━━━━━━━━━━━━━━━┳━━━━━━━━┓\n",
       "┃\u001b[1;35m \u001b[0m\u001b[1;35m \u001b[0m\u001b[1;35m \u001b[0m┃\u001b[1;35m \u001b[0m\u001b[1;35mName         \u001b[0m\u001b[1;35m \u001b[0m┃\u001b[1;35m \u001b[0m\u001b[1;35mType            \u001b[0m\u001b[1;35m \u001b[0m┃\u001b[1;35m \u001b[0m\u001b[1;35mParams\u001b[0m\u001b[1;35m \u001b[0m┃\n",
       "┡━━━╇━━━━━━━━━━━━━━━╇━━━━━━━━━━━━━━━━━━╇━━━━━━━━┩\n",
       "│\u001b[2m \u001b[0m\u001b[2m0\u001b[0m\u001b[2m \u001b[0m│ gru           │ GRU              │  485 K │\n",
       "│\u001b[2m \u001b[0m\u001b[2m1\u001b[0m\u001b[2m \u001b[0m│ fc            │ Linear           │    258 │\n",
       "│\u001b[2m \u001b[0m\u001b[2m2\u001b[0m\u001b[2m \u001b[0m│ loss_function │ CrossEntropyLoss │      0 │\n",
       "└───┴───────────────┴──────────────────┴────────┘\n"
      ]
     },
     "metadata": {},
     "output_type": "display_data"
    },
    {
     "data": {
      "text/html": [
       "<pre style=\"white-space:pre;overflow-x:auto;line-height:normal;font-family:Menlo,'DejaVu Sans Mono',consolas,'Courier New',monospace\"><span style=\"font-weight: bold\">Trainable params</span>: 485 K                                                                                            \n",
       "<span style=\"font-weight: bold\">Non-trainable params</span>: 0                                                                                            \n",
       "<span style=\"font-weight: bold\">Total params</span>: 485 K                                                                                                \n",
       "<span style=\"font-weight: bold\">Total estimated model params size (MB)</span>: 1                                                                          \n",
       "</pre>\n"
      ],
      "text/plain": [
       "\u001b[1mTrainable params\u001b[0m: 485 K                                                                                            \n",
       "\u001b[1mNon-trainable params\u001b[0m: 0                                                                                            \n",
       "\u001b[1mTotal params\u001b[0m: 485 K                                                                                                \n",
       "\u001b[1mTotal estimated model params size (MB)\u001b[0m: 1                                                                          \n"
      ]
     },
     "metadata": {},
     "output_type": "display_data"
    },
    {
     "data": {
      "application/vnd.jupyter.widget-view+json": {
       "model_id": "6fa043336acc4fc89d4df42f8254ca07",
       "version_major": 2,
       "version_minor": 0
      },
      "text/plain": [
       "Output()"
      ]
     },
     "metadata": {},
     "output_type": "display_data"
    },
    {
     "name": "stderr",
     "output_type": "stream",
     "text": [
      "`Trainer.fit` stopped: `max_epochs=3` reached.\n"
     ]
    },
    {
     "data": {
      "text/html": [
       "<pre style=\"white-space:pre;overflow-x:auto;line-height:normal;font-family:Menlo,'DejaVu Sans Mono',consolas,'Courier New',monospace\"></pre>\n"
      ],
      "text/plain": []
     },
     "metadata": {},
     "output_type": "display_data"
    },
    {
     "data": {
      "text/html": [
       "<pre style=\"white-space:pre;overflow-x:auto;line-height:normal;font-family:Menlo,'DejaVu Sans Mono',consolas,'Courier New',monospace\">\n",
       "</pre>\n"
      ],
      "text/plain": [
       "\n"
      ]
     },
     "metadata": {},
     "output_type": "display_data"
    }
   ],
   "source": [
    "trainer = Trainer(\n",
    "    max_epochs=config.num_epoch,\n",
    "    accelerator=\"auto\",\n",
    "    # devices= 1 if torch.cuda.is_available() else None,\n",
    "    callbacks=[RichProgressBar()],\n",
    ")\n",
    "trainer.fit(model)"
   ]
  },
  {
   "cell_type": "code",
   "execution_count": 15,
   "metadata": {},
   "outputs": [
    {
     "data": {
      "application/vnd.jupyter.widget-view+json": {
       "model_id": "cbbc0afc5f764c5faf4653bfc1a0dda1",
       "version_major": 2,
       "version_minor": 0
      },
      "text/plain": [
       "Output()"
      ]
     },
     "metadata": {},
     "output_type": "display_data"
    },
    {
     "data": {
      "text/html": [
       "<pre style=\"white-space:pre;overflow-x:auto;line-height:normal;font-family:Menlo,'DejaVu Sans Mono',consolas,'Courier New',monospace\">┏━━━━━━━━━━━━━━━━━━━━━━━━━━━┳━━━━━━━━━━━━━━━━━━━━━━━━━━━┓\n",
       "┃<span style=\"font-weight: bold\">  Runningstage.validating  </span>┃<span style=\"font-weight: bold\">                           </span>┃\n",
       "┃<span style=\"font-weight: bold\">          metric           </span>┃<span style=\"font-weight: bold\">       DataLoader 0        </span>┃\n",
       "┡━━━━━━━━━━━━━━━━━━━━━━━━━━━╇━━━━━━━━━━━━━━━━━━━━━━━━━━━┩\n",
       "│<span style=\"color: #008080; text-decoration-color: #008080\">          val_acc          </span>│<span style=\"color: #800080; text-decoration-color: #800080\">    0.5097312331199646     </span>│\n",
       "│<span style=\"color: #008080; text-decoration-color: #008080\">          val_f1           </span>│<span style=\"color: #800080; text-decoration-color: #800080\">    0.37042734026908875    </span>│\n",
       "│<span style=\"color: #008080; text-decoration-color: #008080\">         val_loss          </span>│<span style=\"color: #800080; text-decoration-color: #800080\">    0.6949372291564941     </span>│\n",
       "└───────────────────────────┴───────────────────────────┘\n",
       "</pre>\n"
      ],
      "text/plain": [
       "┏━━━━━━━━━━━━━━━━━━━━━━━━━━━┳━━━━━━━━━━━━━━━━━━━━━━━━━━━┓\n",
       "┃\u001b[1m \u001b[0m\u001b[1m Runningstage.validating \u001b[0m\u001b[1m \u001b[0m┃\u001b[1m                           \u001b[0m┃\n",
       "┃\u001b[1m \u001b[0m\u001b[1m         metric          \u001b[0m\u001b[1m \u001b[0m┃\u001b[1m \u001b[0m\u001b[1m      DataLoader 0       \u001b[0m\u001b[1m \u001b[0m┃\n",
       "┡━━━━━━━━━━━━━━━━━━━━━━━━━━━╇━━━━━━━━━━━━━━━━━━━━━━━━━━━┩\n",
       "│\u001b[36m \u001b[0m\u001b[36m         val_acc         \u001b[0m\u001b[36m \u001b[0m│\u001b[35m \u001b[0m\u001b[35m   0.5097312331199646    \u001b[0m\u001b[35m \u001b[0m│\n",
       "│\u001b[36m \u001b[0m\u001b[36m         val_f1          \u001b[0m\u001b[36m \u001b[0m│\u001b[35m \u001b[0m\u001b[35m   0.37042734026908875   \u001b[0m\u001b[35m \u001b[0m│\n",
       "│\u001b[36m \u001b[0m\u001b[36m        val_loss         \u001b[0m\u001b[36m \u001b[0m│\u001b[35m \u001b[0m\u001b[35m   0.6949372291564941    \u001b[0m\u001b[35m \u001b[0m│\n",
       "└───────────────────────────┴───────────────────────────┘\n"
      ]
     },
     "metadata": {},
     "output_type": "display_data"
    },
    {
     "data": {
      "text/html": [
       "<pre style=\"white-space:pre;overflow-x:auto;line-height:normal;font-family:Menlo,'DejaVu Sans Mono',consolas,'Courier New',monospace\"></pre>\n"
      ],
      "text/plain": []
     },
     "metadata": {},
     "output_type": "display_data"
    },
    {
     "data": {
      "text/html": [
       "<pre style=\"white-space:pre;overflow-x:auto;line-height:normal;font-family:Menlo,'DejaVu Sans Mono',consolas,'Courier New',monospace\">\n",
       "</pre>\n"
      ],
      "text/plain": [
       "\n"
      ]
     },
     "metadata": {},
     "output_type": "display_data"
    },
    {
     "data": {
      "text/plain": [
       "[{'val_loss': 0.6949372291564941,\n",
       "  'val_acc': 0.5097312331199646,\n",
       "  'val_f1': 0.37042734026908875}]"
      ]
     },
     "execution_count": 15,
     "metadata": {},
     "output_type": "execute_result"
    }
   ],
   "source": [
    "trainer.validate(model)"
   ]
  },
  {
   "cell_type": "code",
   "execution_count": 10,
   "metadata": {},
   "outputs": [],
   "source": [
    "def backtest_prepare_data(x, window_size):\n",
    "    scaler = StandardScaler()\n",
    "    n_row = x.shape[0] - window_size + 1\n",
    "    strides = np.lib.stride_tricks.as_strided(\n",
    "        x, shape=(n_row, window_size), strides=(x.strides[0], x.strides[0])\n",
    "    )\n",
    "    X = np.empty([1, window_size - 1])\n",
    "    last_new_price = np.empty([1, 2])\n",
    "    for stride in tqdm(strides):\n",
    "        last_new_price = np.concatenate(\n",
    "            (\n",
    "                last_new_price,\n",
    "                np.array([stride[-2], stride[-1]]).reshape(1, -1),\n",
    "            ),\n",
    "            axis=0,\n",
    "        )\n",
    "        norm_stride = stride[:-1].reshape(\n",
    "            1, -1\n",
    "        )  # scaler.fit_transform(stride[:-1].reshape(1,-1).T).reshape(1,-1)\n",
    "        X = np.concatenate((X, norm_stride), axis=0)\n",
    "\n",
    "    return X[1:], last_new_price[1:]\n",
    "\n",
    "\n",
    "class BacktestDataset(Dataset):\n",
    "    def __init__(self, x, y, date):\n",
    "        x = np.expand_dims(x, 2)\n",
    "        self.x = x.astype(np.float32).reshape(-1, 1, config.window_size - 1)\n",
    "        self.y = y.astype(np.float32)\n",
    "        self.date = date\n",
    "\n",
    "    def __len__(self):\n",
    "        return len(self.x)\n",
    "\n",
    "    def __getitem__(self, idx):\n",
    "        return (self.x[idx], self.y[idx], self.date[idx])"
   ]
  },
  {
   "cell_type": "code",
   "execution_count": 31,
   "metadata": {},
   "outputs": [
    {
     "name": "stdout",
     "output_type": "stream",
     "text": [
      "Number data points: 540 from 2021-01-01 00:01:00 to 2021-03-31 20:01:00\n"
     ]
    },
    {
     "data": {
      "application/vnd.jupyter.widget-view+json": {
       "model_id": "8837a5ff74a746fda1f15b588cfe1e99",
       "version_major": 2,
       "version_minor": 0
      },
      "text/plain": [
       "  0%|          | 0/180 [00:00<?, ?it/s]"
      ]
     },
     "metadata": {},
     "output_type": "display_data"
    },
    {
     "data": {
      "application/vnd.plotly.v1+json": {
       "config": {
        "plotlyServerURL": "https://plot.ly"
       },
       "data": [
        {
         "mode": "lines+markers",
         "type": "scatter",
         "x": [
          "2021-01-01 00:01:00",
          "2021-01-01 04:01:00",
          "2021-01-01 08:01:00",
          "2021-01-01 12:01:00",
          "2021-01-01 16:01:00",
          "2021-01-01 20:01:00",
          "2021-01-02 00:01:00",
          "2021-01-02 04:01:00",
          "2021-01-02 08:01:00",
          "2021-01-02 12:01:00",
          "2021-01-02 16:01:00",
          "2021-01-02 20:01:00",
          "2021-01-03 00:01:00",
          "2021-01-03 04:01:00",
          "2021-01-03 08:01:00",
          "2021-01-03 12:01:00",
          "2021-01-03 16:01:00",
          "2021-01-03 20:01:00",
          "2021-01-04 00:01:00",
          "2021-01-04 04:01:00",
          "2021-01-04 08:01:00",
          "2021-01-04 12:01:00",
          "2021-01-04 16:01:00",
          "2021-01-04 20:01:00",
          "2021-01-05 00:01:00",
          "2021-01-05 04:01:00",
          "2021-01-05 08:01:00",
          "2021-01-05 12:01:00",
          "2021-01-05 16:01:00",
          "2021-01-05 20:01:00",
          "2021-01-06 00:01:00",
          "2021-01-06 04:01:00",
          "2021-01-06 08:01:00",
          "2021-01-06 12:01:00",
          "2021-01-06 16:01:00",
          "2021-01-06 20:01:00",
          "2021-01-07 00:01:00",
          "2021-01-07 04:01:00",
          "2021-01-07 08:01:00",
          "2021-01-07 12:01:00",
          "2021-01-07 16:01:00",
          "2021-01-07 20:01:00",
          "2021-01-08 00:01:00",
          "2021-01-08 04:01:00",
          "2021-01-08 08:01:00",
          "2021-01-08 12:01:00",
          "2021-01-08 16:01:00",
          "2021-01-08 20:01:00",
          "2021-01-09 00:01:00",
          "2021-01-09 04:01:00",
          "2021-01-09 08:01:00",
          "2021-01-09 12:01:00",
          "2021-01-09 16:01:00",
          "2021-01-09 20:01:00",
          "2021-01-10 00:01:00",
          "2021-01-10 04:01:00",
          "2021-01-10 08:01:00",
          "2021-01-10 12:01:00",
          "2021-01-10 16:01:00",
          "2021-01-10 20:01:00",
          "2021-01-11 00:01:00",
          "2021-01-11 04:01:00",
          "2021-01-11 08:01:00",
          "2021-01-11 12:01:00",
          "2021-01-11 16:01:00",
          "2021-01-11 20:01:00",
          "2021-01-12 00:01:00",
          "2021-01-12 04:01:00",
          "2021-01-12 08:01:00",
          "2021-01-12 12:01:00",
          "2021-01-12 16:01:00",
          "2021-01-12 20:01:00",
          "2021-01-13 00:01:00",
          "2021-01-13 04:01:00",
          "2021-01-13 08:01:00",
          "2021-01-13 12:01:00",
          "2021-01-13 16:01:00",
          "2021-01-13 20:01:00",
          "2021-01-14 00:01:00",
          "2021-01-14 04:01:00",
          "2021-01-14 08:01:00",
          "2021-01-14 12:01:00",
          "2021-01-14 16:01:00",
          "2021-01-14 20:01:00",
          "2021-01-15 00:01:00",
          "2021-01-15 04:01:00",
          "2021-01-15 08:01:00",
          "2021-01-15 12:01:00",
          "2021-01-15 16:01:00",
          "2021-01-15 20:01:00",
          "2021-01-16 00:01:00",
          "2021-01-16 04:01:00",
          "2021-01-16 08:01:00",
          "2021-01-16 12:01:00",
          "2021-01-16 16:01:00",
          "2021-01-16 20:01:00",
          "2021-01-17 00:01:00",
          "2021-01-17 04:01:00",
          "2021-01-17 08:01:00",
          "2021-01-17 12:01:00",
          "2021-01-17 16:01:00",
          "2021-01-17 20:01:00",
          "2021-01-18 00:01:00",
          "2021-01-18 04:01:00",
          "2021-01-18 08:01:00",
          "2021-01-18 12:01:00",
          "2021-01-18 16:01:00",
          "2021-01-18 20:01:00",
          "2021-01-19 00:01:00",
          "2021-01-19 04:01:00",
          "2021-01-19 08:01:00",
          "2021-01-19 12:01:00",
          "2021-01-19 16:01:00",
          "2021-01-19 20:01:00",
          "2021-01-20 00:01:00",
          "2021-01-20 04:01:00",
          "2021-01-20 08:01:00",
          "2021-01-20 12:01:00",
          "2021-01-20 16:01:00",
          "2021-01-20 20:01:00",
          "2021-01-21 00:01:00",
          "2021-01-21 04:01:00",
          "2021-01-21 08:01:00",
          "2021-01-21 12:01:00",
          "2021-01-21 16:01:00",
          "2021-01-21 20:01:00",
          "2021-01-22 00:01:00",
          "2021-01-22 04:01:00",
          "2021-01-22 08:01:00",
          "2021-01-22 12:01:00",
          "2021-01-22 16:01:00",
          "2021-01-22 20:01:00",
          "2021-01-23 00:01:00",
          "2021-01-23 04:01:00",
          "2021-01-23 08:01:00",
          "2021-01-23 12:01:00",
          "2021-01-23 16:01:00",
          "2021-01-23 20:01:00",
          "2021-01-24 00:01:00",
          "2021-01-24 04:01:00",
          "2021-01-24 08:01:00",
          "2021-01-24 12:01:00",
          "2021-01-24 16:01:00",
          "2021-01-24 20:01:00",
          "2021-01-25 00:01:00",
          "2021-01-25 04:01:00",
          "2021-01-25 08:01:00",
          "2021-01-25 12:01:00",
          "2021-01-25 16:01:00",
          "2021-01-25 20:01:00",
          "2021-01-26 00:01:00",
          "2021-01-26 04:01:00",
          "2021-01-26 08:01:00",
          "2021-01-26 12:01:00",
          "2021-01-26 16:01:00",
          "2021-01-26 20:01:00",
          "2021-01-27 00:01:00",
          "2021-01-27 04:01:00",
          "2021-01-27 08:01:00",
          "2021-01-27 12:01:00",
          "2021-01-27 16:01:00",
          "2021-01-27 20:01:00",
          "2021-01-28 00:01:00",
          "2021-01-28 04:01:00",
          "2021-01-28 08:01:00",
          "2021-01-28 12:01:00",
          "2021-01-28 16:01:00",
          "2021-01-28 20:01:00",
          "2021-01-29 00:01:00",
          "2021-01-29 04:01:00",
          "2021-01-29 08:01:00",
          "2021-01-29 12:01:00",
          "2021-01-29 16:01:00",
          "2021-01-29 20:01:00",
          "2021-01-30 00:01:00",
          "2021-01-30 04:01:00",
          "2021-01-30 08:01:00",
          "2021-01-30 12:01:00",
          "2021-01-30 16:01:00",
          "2021-01-30 20:01:00"
         ],
         "y": [
          100,
          99.9,
          99.80000000000001,
          99.70000000000002,
          99.60000000000002,
          99.50000000000003,
          99.40000000000003,
          99.50000000000003,
          99.60000000000002,
          99.70000000000002,
          99.80000000000001,
          99.9,
          100,
          100.1,
          100.19999999999999,
          100.29999999999998,
          100.39999999999998,
          100.49999999999997,
          100.59999999999997,
          100.69999999999996,
          100.79999999999995,
          100.69999999999996,
          100.79999999999995,
          100.69999999999996,
          100.79999999999995,
          100.69999999999996,
          100.59999999999997,
          100.49999999999997,
          100.39999999999998,
          100.29999999999998,
          100.19999999999999,
          100.1,
          100,
          99.9,
          99.80000000000001,
          99.9,
          99.80000000000001,
          99.70000000000002,
          99.60000000000002,
          99.50000000000003,
          99.40000000000003,
          99.30000000000004,
          99.20000000000005,
          99.10000000000005,
          99.00000000000006,
          98.90000000000006,
          99.00000000000006,
          99.10000000000005,
          99.20000000000005,
          99.10000000000005,
          99.20000000000005,
          99.30000000000004,
          99.40000000000003,
          99.50000000000003,
          99.60000000000002,
          99.70000000000002,
          99.80000000000001,
          99.9,
          100,
          100.1,
          100.19999999999999,
          100.29999999999998,
          100.39999999999998,
          100.49999999999997,
          100.59999999999997,
          100.69999999999996,
          100.79999999999995,
          100.89999999999995,
          100.99999999999994,
          101.09999999999994,
          101.19999999999993,
          101.29999999999993,
          101.39999999999992,
          101.49999999999991,
          101.59999999999991,
          101.6999999999999,
          101.7999999999999,
          101.89999999999989,
          101.99999999999989,
          102.09999999999988,
          102.19999999999987,
          102.29999999999987,
          102.39999999999986,
          102.49999999999986,
          102.59999999999985,
          102.69999999999985,
          102.79999999999984,
          102.89999999999984,
          102.99999999999983,
          103.09999999999982,
          103.19999999999982,
          103.29999999999981,
          103.3999999999998,
          103.4999999999998,
          103.5999999999998,
          103.69999999999979,
          103.79999999999978,
          103.89999999999978,
          103.99999999999977,
          104.09999999999977,
          104.19999999999976,
          104.29999999999976,
          104.39999999999975,
          104.49999999999974,
          104.59999999999974,
          104.69999999999973,
          104.79999999999973,
          104.89999999999972,
          104.99999999999972,
          105.09999999999971,
          105.20999999999971,
          105.31999999999971,
          105.42999999999971,
          105.53999999999971,
          105.64999999999971,
          105.7599999999997,
          105.8699999999997,
          105.9799999999997,
          106.0899999999997,
          106.1999999999997,
          106.3099999999997,
          106.4199999999997,
          106.5299999999997,
          106.6399999999997,
          106.7499999999997,
          106.8599999999997,
          106.7499999999997,
          106.6399999999997,
          106.5299999999997,
          106.4199999999997,
          106.3099999999997,
          106.1999999999997,
          106.0899999999997,
          105.9799999999997,
          106.0899999999997,
          105.9799999999997,
          106.0899999999997,
          106.1999999999997,
          106.3099999999997,
          106.4199999999997,
          106.5299999999997,
          106.6399999999997,
          106.7499999999997,
          106.8599999999997,
          106.9699999999997,
          107.0799999999997,
          107.1899999999997,
          107.2999999999997,
          107.4099999999997,
          107.5199999999997,
          107.6299999999997,
          107.7399999999997,
          107.8499999999997,
          107.9599999999997,
          108.0699999999997,
          108.1799999999997,
          108.2899999999997,
          108.3999999999997,
          108.50999999999969,
          108.61999999999969,
          108.72999999999969,
          108.83999999999969,
          108.94999999999969,
          109.05999999999969,
          109.16999999999969,
          109.27999999999969,
          109.38999999999969,
          109.49999999999969,
          109.60999999999969,
          109.71999999999969,
          109.82999999999969,
          109.93999999999969,
          110.04999999999968,
          110.15999999999968,
          110.26999999999968,
          110.37999999999968,
          110.48999999999968,
          110.59999999999968,
          110.70999999999968,
          110.81999999999968
         ]
        }
       ],
       "layout": {
        "template": {
         "data": {
          "bar": [
           {
            "error_x": {
             "color": "#2a3f5f"
            },
            "error_y": {
             "color": "#2a3f5f"
            },
            "marker": {
             "line": {
              "color": "#E5ECF6",
              "width": 0.5
             },
             "pattern": {
              "fillmode": "overlay",
              "size": 10,
              "solidity": 0.2
             }
            },
            "type": "bar"
           }
          ],
          "barpolar": [
           {
            "marker": {
             "line": {
              "color": "#E5ECF6",
              "width": 0.5
             },
             "pattern": {
              "fillmode": "overlay",
              "size": 10,
              "solidity": 0.2
             }
            },
            "type": "barpolar"
           }
          ],
          "carpet": [
           {
            "aaxis": {
             "endlinecolor": "#2a3f5f",
             "gridcolor": "white",
             "linecolor": "white",
             "minorgridcolor": "white",
             "startlinecolor": "#2a3f5f"
            },
            "baxis": {
             "endlinecolor": "#2a3f5f",
             "gridcolor": "white",
             "linecolor": "white",
             "minorgridcolor": "white",
             "startlinecolor": "#2a3f5f"
            },
            "type": "carpet"
           }
          ],
          "choropleth": [
           {
            "colorbar": {
             "outlinewidth": 0,
             "ticks": ""
            },
            "type": "choropleth"
           }
          ],
          "contour": [
           {
            "colorbar": {
             "outlinewidth": 0,
             "ticks": ""
            },
            "colorscale": [
             [
              0,
              "#0d0887"
             ],
             [
              0.1111111111111111,
              "#46039f"
             ],
             [
              0.2222222222222222,
              "#7201a8"
             ],
             [
              0.3333333333333333,
              "#9c179e"
             ],
             [
              0.4444444444444444,
              "#bd3786"
             ],
             [
              0.5555555555555556,
              "#d8576b"
             ],
             [
              0.6666666666666666,
              "#ed7953"
             ],
             [
              0.7777777777777778,
              "#fb9f3a"
             ],
             [
              0.8888888888888888,
              "#fdca26"
             ],
             [
              1,
              "#f0f921"
             ]
            ],
            "type": "contour"
           }
          ],
          "contourcarpet": [
           {
            "colorbar": {
             "outlinewidth": 0,
             "ticks": ""
            },
            "type": "contourcarpet"
           }
          ],
          "heatmap": [
           {
            "colorbar": {
             "outlinewidth": 0,
             "ticks": ""
            },
            "colorscale": [
             [
              0,
              "#0d0887"
             ],
             [
              0.1111111111111111,
              "#46039f"
             ],
             [
              0.2222222222222222,
              "#7201a8"
             ],
             [
              0.3333333333333333,
              "#9c179e"
             ],
             [
              0.4444444444444444,
              "#bd3786"
             ],
             [
              0.5555555555555556,
              "#d8576b"
             ],
             [
              0.6666666666666666,
              "#ed7953"
             ],
             [
              0.7777777777777778,
              "#fb9f3a"
             ],
             [
              0.8888888888888888,
              "#fdca26"
             ],
             [
              1,
              "#f0f921"
             ]
            ],
            "type": "heatmap"
           }
          ],
          "heatmapgl": [
           {
            "colorbar": {
             "outlinewidth": 0,
             "ticks": ""
            },
            "colorscale": [
             [
              0,
              "#0d0887"
             ],
             [
              0.1111111111111111,
              "#46039f"
             ],
             [
              0.2222222222222222,
              "#7201a8"
             ],
             [
              0.3333333333333333,
              "#9c179e"
             ],
             [
              0.4444444444444444,
              "#bd3786"
             ],
             [
              0.5555555555555556,
              "#d8576b"
             ],
             [
              0.6666666666666666,
              "#ed7953"
             ],
             [
              0.7777777777777778,
              "#fb9f3a"
             ],
             [
              0.8888888888888888,
              "#fdca26"
             ],
             [
              1,
              "#f0f921"
             ]
            ],
            "type": "heatmapgl"
           }
          ],
          "histogram": [
           {
            "marker": {
             "pattern": {
              "fillmode": "overlay",
              "size": 10,
              "solidity": 0.2
             }
            },
            "type": "histogram"
           }
          ],
          "histogram2d": [
           {
            "colorbar": {
             "outlinewidth": 0,
             "ticks": ""
            },
            "colorscale": [
             [
              0,
              "#0d0887"
             ],
             [
              0.1111111111111111,
              "#46039f"
             ],
             [
              0.2222222222222222,
              "#7201a8"
             ],
             [
              0.3333333333333333,
              "#9c179e"
             ],
             [
              0.4444444444444444,
              "#bd3786"
             ],
             [
              0.5555555555555556,
              "#d8576b"
             ],
             [
              0.6666666666666666,
              "#ed7953"
             ],
             [
              0.7777777777777778,
              "#fb9f3a"
             ],
             [
              0.8888888888888888,
              "#fdca26"
             ],
             [
              1,
              "#f0f921"
             ]
            ],
            "type": "histogram2d"
           }
          ],
          "histogram2dcontour": [
           {
            "colorbar": {
             "outlinewidth": 0,
             "ticks": ""
            },
            "colorscale": [
             [
              0,
              "#0d0887"
             ],
             [
              0.1111111111111111,
              "#46039f"
             ],
             [
              0.2222222222222222,
              "#7201a8"
             ],
             [
              0.3333333333333333,
              "#9c179e"
             ],
             [
              0.4444444444444444,
              "#bd3786"
             ],
             [
              0.5555555555555556,
              "#d8576b"
             ],
             [
              0.6666666666666666,
              "#ed7953"
             ],
             [
              0.7777777777777778,
              "#fb9f3a"
             ],
             [
              0.8888888888888888,
              "#fdca26"
             ],
             [
              1,
              "#f0f921"
             ]
            ],
            "type": "histogram2dcontour"
           }
          ],
          "mesh3d": [
           {
            "colorbar": {
             "outlinewidth": 0,
             "ticks": ""
            },
            "type": "mesh3d"
           }
          ],
          "parcoords": [
           {
            "line": {
             "colorbar": {
              "outlinewidth": 0,
              "ticks": ""
             }
            },
            "type": "parcoords"
           }
          ],
          "pie": [
           {
            "automargin": true,
            "type": "pie"
           }
          ],
          "scatter": [
           {
            "fillpattern": {
             "fillmode": "overlay",
             "size": 10,
             "solidity": 0.2
            },
            "type": "scatter"
           }
          ],
          "scatter3d": [
           {
            "line": {
             "colorbar": {
              "outlinewidth": 0,
              "ticks": ""
             }
            },
            "marker": {
             "colorbar": {
              "outlinewidth": 0,
              "ticks": ""
             }
            },
            "type": "scatter3d"
           }
          ],
          "scattercarpet": [
           {
            "marker": {
             "colorbar": {
              "outlinewidth": 0,
              "ticks": ""
             }
            },
            "type": "scattercarpet"
           }
          ],
          "scattergeo": [
           {
            "marker": {
             "colorbar": {
              "outlinewidth": 0,
              "ticks": ""
             }
            },
            "type": "scattergeo"
           }
          ],
          "scattergl": [
           {
            "marker": {
             "colorbar": {
              "outlinewidth": 0,
              "ticks": ""
             }
            },
            "type": "scattergl"
           }
          ],
          "scattermapbox": [
           {
            "marker": {
             "colorbar": {
              "outlinewidth": 0,
              "ticks": ""
             }
            },
            "type": "scattermapbox"
           }
          ],
          "scatterpolar": [
           {
            "marker": {
             "colorbar": {
              "outlinewidth": 0,
              "ticks": ""
             }
            },
            "type": "scatterpolar"
           }
          ],
          "scatterpolargl": [
           {
            "marker": {
             "colorbar": {
              "outlinewidth": 0,
              "ticks": ""
             }
            },
            "type": "scatterpolargl"
           }
          ],
          "scatterternary": [
           {
            "marker": {
             "colorbar": {
              "outlinewidth": 0,
              "ticks": ""
             }
            },
            "type": "scatterternary"
           }
          ],
          "surface": [
           {
            "colorbar": {
             "outlinewidth": 0,
             "ticks": ""
            },
            "colorscale": [
             [
              0,
              "#0d0887"
             ],
             [
              0.1111111111111111,
              "#46039f"
             ],
             [
              0.2222222222222222,
              "#7201a8"
             ],
             [
              0.3333333333333333,
              "#9c179e"
             ],
             [
              0.4444444444444444,
              "#bd3786"
             ],
             [
              0.5555555555555556,
              "#d8576b"
             ],
             [
              0.6666666666666666,
              "#ed7953"
             ],
             [
              0.7777777777777778,
              "#fb9f3a"
             ],
             [
              0.8888888888888888,
              "#fdca26"
             ],
             [
              1,
              "#f0f921"
             ]
            ],
            "type": "surface"
           }
          ],
          "table": [
           {
            "cells": {
             "fill": {
              "color": "#EBF0F8"
             },
             "line": {
              "color": "white"
             }
            },
            "header": {
             "fill": {
              "color": "#C8D4E3"
             },
             "line": {
              "color": "white"
             }
            },
            "type": "table"
           }
          ]
         },
         "layout": {
          "annotationdefaults": {
           "arrowcolor": "#2a3f5f",
           "arrowhead": 0,
           "arrowwidth": 1
          },
          "autotypenumbers": "strict",
          "coloraxis": {
           "colorbar": {
            "outlinewidth": 0,
            "ticks": ""
           }
          },
          "colorscale": {
           "diverging": [
            [
             0,
             "#8e0152"
            ],
            [
             0.1,
             "#c51b7d"
            ],
            [
             0.2,
             "#de77ae"
            ],
            [
             0.3,
             "#f1b6da"
            ],
            [
             0.4,
             "#fde0ef"
            ],
            [
             0.5,
             "#f7f7f7"
            ],
            [
             0.6,
             "#e6f5d0"
            ],
            [
             0.7,
             "#b8e186"
            ],
            [
             0.8,
             "#7fbc41"
            ],
            [
             0.9,
             "#4d9221"
            ],
            [
             1,
             "#276419"
            ]
           ],
           "sequential": [
            [
             0,
             "#0d0887"
            ],
            [
             0.1111111111111111,
             "#46039f"
            ],
            [
             0.2222222222222222,
             "#7201a8"
            ],
            [
             0.3333333333333333,
             "#9c179e"
            ],
            [
             0.4444444444444444,
             "#bd3786"
            ],
            [
             0.5555555555555556,
             "#d8576b"
            ],
            [
             0.6666666666666666,
             "#ed7953"
            ],
            [
             0.7777777777777778,
             "#fb9f3a"
            ],
            [
             0.8888888888888888,
             "#fdca26"
            ],
            [
             1,
             "#f0f921"
            ]
           ],
           "sequentialminus": [
            [
             0,
             "#0d0887"
            ],
            [
             0.1111111111111111,
             "#46039f"
            ],
            [
             0.2222222222222222,
             "#7201a8"
            ],
            [
             0.3333333333333333,
             "#9c179e"
            ],
            [
             0.4444444444444444,
             "#bd3786"
            ],
            [
             0.5555555555555556,
             "#d8576b"
            ],
            [
             0.6666666666666666,
             "#ed7953"
            ],
            [
             0.7777777777777778,
             "#fb9f3a"
            ],
            [
             0.8888888888888888,
             "#fdca26"
            ],
            [
             1,
             "#f0f921"
            ]
           ]
          },
          "colorway": [
           "#636efa",
           "#EF553B",
           "#00cc96",
           "#ab63fa",
           "#FFA15A",
           "#19d3f3",
           "#FF6692",
           "#B6E880",
           "#FF97FF",
           "#FECB52"
          ],
          "font": {
           "color": "#2a3f5f"
          },
          "geo": {
           "bgcolor": "white",
           "lakecolor": "white",
           "landcolor": "#E5ECF6",
           "showlakes": true,
           "showland": true,
           "subunitcolor": "white"
          },
          "hoverlabel": {
           "align": "left"
          },
          "hovermode": "closest",
          "mapbox": {
           "style": "light"
          },
          "paper_bgcolor": "white",
          "plot_bgcolor": "#E5ECF6",
          "polar": {
           "angularaxis": {
            "gridcolor": "white",
            "linecolor": "white",
            "ticks": ""
           },
           "bgcolor": "#E5ECF6",
           "radialaxis": {
            "gridcolor": "white",
            "linecolor": "white",
            "ticks": ""
           }
          },
          "scene": {
           "xaxis": {
            "backgroundcolor": "#E5ECF6",
            "gridcolor": "white",
            "gridwidth": 2,
            "linecolor": "white",
            "showbackground": true,
            "ticks": "",
            "zerolinecolor": "white"
           },
           "yaxis": {
            "backgroundcolor": "#E5ECF6",
            "gridcolor": "white",
            "gridwidth": 2,
            "linecolor": "white",
            "showbackground": true,
            "ticks": "",
            "zerolinecolor": "white"
           },
           "zaxis": {
            "backgroundcolor": "#E5ECF6",
            "gridcolor": "white",
            "gridwidth": 2,
            "linecolor": "white",
            "showbackground": true,
            "ticks": "",
            "zerolinecolor": "white"
           }
          },
          "shapedefaults": {
           "line": {
            "color": "#2a3f5f"
           }
          },
          "ternary": {
           "aaxis": {
            "gridcolor": "white",
            "linecolor": "white",
            "ticks": ""
           },
           "baxis": {
            "gridcolor": "white",
            "linecolor": "white",
            "ticks": ""
           },
           "bgcolor": "#E5ECF6",
           "caxis": {
            "gridcolor": "white",
            "linecolor": "white",
            "ticks": ""
           }
          },
          "title": {
           "x": 0.05
          },
          "xaxis": {
           "automargin": true,
           "gridcolor": "white",
           "linecolor": "white",
           "ticks": "",
           "title": {
            "standoff": 15
           },
           "zerolinecolor": "white",
           "zerolinewidth": 2
          },
          "yaxis": {
           "automargin": true,
           "gridcolor": "white",
           "linecolor": "white",
           "ticks": "",
           "title": {
            "standoff": 15
           },
           "zerolinecolor": "white",
           "zerolinewidth": 2
          }
         }
        }
       }
      }
     },
     "metadata": {},
     "output_type": "display_data"
    }
   ],
   "source": [
    "class Backtest:\n",
    "    def __init__(self, model, deposit):\n",
    "        # self.model = lambda: randint(0,1)\n",
    "        self.model = model\n",
    "        self.config = config\n",
    "        self.dataloader = self.get_dataloader()\n",
    "\n",
    "        self.imr_stop = [\n",
    "            [75, 5e3],\n",
    "            [50, 1e4],\n",
    "            [40, 5e4],\n",
    "            [25, 25e4],\n",
    "            [10, 1e6],\n",
    "            [5, 5e6],\n",
    "            [4, 1e7],\n",
    "            [3, 2e7],\n",
    "            [2, 3e7],\n",
    "            [1, np.Inf],\n",
    "        ]\n",
    "\n",
    "        self.deposit = deposit\n",
    "        self.imr_idx = 0\n",
    "        self.imr = self.imr_stop[self.imr_idx][0]\n",
    "        self.margin = self.deposit * self.imr\n",
    "        self.trashhold = 0\n",
    "        self.stop_loss_coef = -10\n",
    "\n",
    "        self.history = {\"order\": [], \"date\": []}\n",
    "\n",
    "    def get_dataloader(self):\n",
    "        self.data_date, self.data_close_price, self.data = load_data(\n",
    "            config, data_range=-60 * 24 * 30 * 3\n",
    "        )\n",
    "        strides, last_new_price = backtest_prepare_data(\n",
    "            self.data_close_price, self.config.window_size\n",
    "        )\n",
    "        dataset_bt = BacktestDataset(strides, last_new_price, self.data_date)\n",
    "        bt_dataloader = DataLoader(\n",
    "            dataset_bt, batch_size=1, shuffle=False, num_workers=6\n",
    "        )\n",
    "        return bt_dataloader\n",
    "\n",
    "    def pnl_roe(self, type_order, entry_price, exit_price):\n",
    "        assert type_order in [-1, 1], \"order type must be in [-1, 1]\"\n",
    "        pnl = (\n",
    "            type_order\n",
    "            * (exit_price - entry_price)\n",
    "            * (self.margin / entry_price)\n",
    "        )\n",
    "        roe = pnl / self.deposit * 100\n",
    "        return round(pnl, 2), round(roe, 2)\n",
    "\n",
    "    def calc_stop_loss(self, entry):\n",
    "        stop_loss = (\n",
    "            self.stop_loss_coef\n",
    "            / 100\n",
    "            * self.deposit\n",
    "            / (self.deposit * self.imr / entry)\n",
    "            + entry\n",
    "        )\n",
    "        return round(stop_loss, 2)\n",
    "\n",
    "    def update_margin(self, pnl, roe):\n",
    "        self.deposit += pnl\n",
    "        if self.deposit * self.imr > self.imr_stop[self.imr_idx][1]:\n",
    "            self.imr_idx += 1\n",
    "        self.imr = self.imr_stop[self.imr_idx][0]\n",
    "        self.margin = self.deposit * self.imr\n",
    "\n",
    "    def test_model_strategy(self, plot=False):\n",
    "        his = []\n",
    "        for idx, (window, prices, date1) in enumerate(self.dataloader):\n",
    "            date1 = date1[0]\n",
    "            self.history[\"order\"].append(self.deposit)\n",
    "            self.history[\"date\"].append(date1)\n",
    "\n",
    "            entry_price, exit_price = map(int, prices[0])\n",
    "            out_model = self.model.forward(window).detach().cpu()\n",
    "\n",
    "            # неуверенность модели\n",
    "            if float(max(out_model[0])) < self.trashhold:\n",
    "                continue\n",
    "            else:\n",
    "                forecast = int(torch.argmax(out_model))\n",
    "            # forecast = self.model()\n",
    "\n",
    "            date2 = self.data_date[self.data_date.index(date1) + 1]\n",
    "            tmp_prices = self.data.loc[date1:date2][\"close\"].to_list()\n",
    "\n",
    "            # buy\n",
    "            if forecast == 0:\n",
    "                self.margin = self.margin / 100 * (1 - 12e-5)\n",
    "                stop_loss = self.calc_stop_loss(entry_price)\n",
    "                triggering_sl = [x for x in tmp_prices if x <= stop_loss]\n",
    "                exit_price = exit_price if triggering_sl is [] else stop_loss\n",
    "                pnl, roe = self.pnl_roe(1, entry_price, exit_price)\n",
    "                self.update_margin(pnl, roe)\n",
    "\n",
    "            # sell\n",
    "            if forecast == 1:\n",
    "                self.margin = self.margin / 100 * (1 - 12e-5)\n",
    "                stop_loss = self.calc_stop_loss(entry_price)\n",
    "                triggering_sl = [x for x in tmp_prices if x >= stop_loss]\n",
    "                exit_price = exit_price if triggering_sl is [] else stop_loss\n",
    "                pnl, roe = self.pnl_roe(-1, entry_price, exit_price)\n",
    "                self.update_margin(pnl, roe)\n",
    "\n",
    "            # break of margin call\n",
    "            if self.deposit <= 0:\n",
    "                self.history[\"order\"].append(0)\n",
    "                self.history[\"date\"].append(date1)\n",
    "                break\n",
    "            if self.deposit > 1000000:\n",
    "                self.history[\"order\"].append(1000000)\n",
    "                self.history[\"date\"].append(date1)\n",
    "                break\n",
    "\n",
    "            his.append(\n",
    "                [self.deposit, entry_price, exit_price, stop_loss, pnl, roe]\n",
    "            )\n",
    "\n",
    "        if plot:\n",
    "            fig = go.Figure(\n",
    "                [\n",
    "                    go.Scatter(\n",
    "                        x=self.history[\"date\"],\n",
    "                        y=self.history[\"order\"],\n",
    "                        mode=\"lines+markers\",\n",
    "                    )\n",
    "                ]\n",
    "            )\n",
    "            fig.show()\n",
    "\n",
    "        return his\n",
    "\n",
    "\n",
    "backtest = Backtest(model, deposit=100)\n",
    "history = backtest.test_model_strategy(plot=True)"
   ]
  },
  {
   "cell_type": "code",
   "execution_count": 33,
   "metadata": {},
   "outputs": [
    {
     "data": {
      "text/plain": [
       "[[99.9, 48476, 48411.37, 48411.37, -0.1, -0.1],\n",
       " [99.80000000000001, 49706, 49606.59, 49606.59, -0.1, -0.1],\n",
       " [99.70000000000002, 48945, 48847.11, 48847.11, -0.1, -0.1],\n",
       " [99.60000000000002, 48485, 48388.03, 48388.03, -0.1, -0.1],\n",
       " [99.50000000000003, 48835, 48737.33, 48737.33, -0.1, -0.1],\n",
       " [99.40000000000003, 48546, 48448.91, 48448.91, -0.1, -0.1],\n",
       " [99.50000000000003, 47466, 47371.07, 47371.07, 0.1, 0.1],\n",
       " [99.60000000000002, 48413, 48316.17, 48316.17, 0.1, 0.1],\n",
       " [99.70000000000002, 48758, 48660.48, 48660.48, 0.1, 0.1],\n",
       " [99.80000000000001, 49954, 49854.09, 49854.09, 0.1, 0.1],\n",
       " [99.9, 51597, 51493.81, 51493.81, 0.1, 0.1],\n",
       " [100.0, 51006, 50903.99, 50903.99, 0.1, 0.1],\n",
       " [100.1, 50873, 50771.25, 50771.25, 0.1, 0.1],\n",
       " [100.19999999999999, 50187, 50086.63, 50086.63, 0.1, 0.1],\n",
       " [100.29999999999998, 49794, 49694.41, 49694.41, 0.1, 0.1],\n",
       " [100.39999999999998, 50056, 49955.89, 49955.89, 0.1, 0.1],\n",
       " [100.49999999999997, 49552, 49452.9, 49452.9, 0.1, 0.1],\n",
       " [100.59999999999997, 49616, 49516.77, 49516.77, 0.1, 0.1],\n",
       " [100.69999999999996, 47956, 47860.09, 47860.09, 0.1, 0.1],\n",
       " [100.79999999999995, 48136, 48039.73, 48039.73, 0.1, 0.1],\n",
       " [100.69999999999996, 47201, 47106.6, 47106.6, -0.1, -0.1],\n",
       " [100.79999999999995, 47318, 47223.36, 47223.36, 0.1, 0.1],\n",
       " [100.69999999999996, 47508, 47412.98, 47412.98, -0.1, -0.1],\n",
       " [100.79999999999995, 47779, 47683.44, 47683.44, 0.1, 0.1],\n",
       " [100.69999999999996, 49389, 49290.22, 49290.22, -0.1, -0.1],\n",
       " [100.59999999999997, 48826, 48728.35, 48728.35, -0.1, -0.1],\n",
       " [100.49999999999997, 48516, 48418.97, 48418.97, -0.1, -0.1],\n",
       " [100.39999999999998, 48899, 48801.2, 48801.2, -0.1, -0.1],\n",
       " [100.29999999999998, 48107, 48010.79, 48010.79, -0.1, -0.1],\n",
       " [100.19999999999999, 47268, 47173.46, 47173.46, -0.1, -0.1],\n",
       " [100.1, 48432, 48335.14, 48335.14, -0.1, -0.1],\n",
       " [100.0, 49085, 48986.83, 48986.83, -0.1, -0.1],\n",
       " [99.9, 49644, 49544.71, 49544.71, -0.1, -0.1],\n",
       " [99.80000000000001, 50145, 50044.71, 50044.71, -0.1, -0.1],\n",
       " [99.9, 50802, 50700.4, 50700.4, 0.1, 0.1],\n",
       " [99.80000000000001, 50712, 50610.58, 50610.58, -0.1, -0.1],\n",
       " [99.70000000000002, 50306, 50205.39, 50205.39, -0.1, -0.1],\n",
       " [99.60000000000002, 51012, 50909.98, 50909.98, -0.1, -0.1],\n",
       " [99.50000000000003, 50507, 50405.99, 50405.99, -0.1, -0.1],\n",
       " [99.40000000000003, 49704, 49604.59, 49604.59, -0.1, -0.1],\n",
       " [99.30000000000004, 50450, 50349.1, 50349.1, -0.1, -0.1],\n",
       " [99.20000000000005, 51115, 51012.77, 51012.77, -0.1, -0.1],\n",
       " [99.10000000000005, 51351, 51248.3, 51248.3, -0.1, -0.1],\n",
       " [99.00000000000006, 52523, 52417.95, 52417.95, -0.1, -0.1],\n",
       " [98.90000000000006, 53872, 53764.26, 53764.26, -0.1, -0.1],\n",
       " [99.00000000000006, 53405, 53298.19, 53298.19, 0.1, 0.1],\n",
       " [99.10000000000005, 54173, 54064.65, 54064.65, 0.1, 0.1],\n",
       " [99.20000000000005, 54209, 54100.58, 54100.58, 0.1, 0.1],\n",
       " [99.10000000000005, 54119, 54010.76, 54010.76, -0.1, -0.1],\n",
       " [99.20000000000005, 55064, 54953.87, 54953.87, 0.1, 0.1],\n",
       " [99.30000000000004, 53510, 53402.98, 53402.98, 0.1, 0.1],\n",
       " [99.40000000000003, 54204, 54095.59, 54095.59, 0.1, 0.1],\n",
       " [99.50000000000003, 55008, 54897.98, 54897.98, 0.1, 0.1],\n",
       " [99.60000000000002, 56394, 56281.21, 56281.21, 0.1, 0.1],\n",
       " [99.70000000000002, 56622, 56508.76, 56508.76, 0.1, 0.1],\n",
       " [99.80000000000001, 55899, 55787.2, 55787.2, 0.1, 0.1],\n",
       " [99.9, 55888, 55776.22, 55776.22, 0.1, 0.1],\n",
       " [100.0, 54731, 54621.54, 54621.54, 0.1, 0.1],\n",
       " [100.1, 56295, 56182.41, 56182.41, 0.1, 0.1],\n",
       " [100.19999999999999, 56556, 56442.89, 56442.89, 0.1, 0.1],\n",
       " [100.29999999999998, 56832, 56718.34, 56718.34, 0.1, 0.1],\n",
       " [100.39999999999998, 57918, 57802.16, 57802.16, 0.1, 0.1],\n",
       " [100.49999999999997, 57192, 57077.62, 57077.62, 0.1, 0.1],\n",
       " [100.59999999999997, 56641, 56527.72, 56527.72, 0.1, 0.1],\n",
       " [100.69999999999996, 56326, 56213.35, 56213.35, 0.1, 0.1],\n",
       " [100.79999999999995, 57253, 57138.49, 57138.49, 0.1, 0.1],\n",
       " [100.89999999999995, 57113, 56998.77, 56998.77, 0.1, 0.1],\n",
       " [100.99999999999994, 56985, 56871.03, 56871.03, 0.1, 0.1],\n",
       " [101.09999999999994, 56704, 56590.59, 56590.59, 0.1, 0.1],\n",
       " [101.19999999999993, 57497, 57382.01, 57382.01, 0.1, 0.1],\n",
       " [101.29999999999993, 59710, 59590.58, 59590.58, 0.1, 0.1],\n",
       " [101.39999999999992, 59785, 59665.43, 59665.43, 0.1, 0.1],\n",
       " [101.49999999999991, 60757, 60635.49, 60635.49, 0.1, 0.1],\n",
       " [101.59999999999991, 61003, 60880.99, 60880.99, 0.1, 0.1],\n",
       " [101.6999999999999, 61506, 61382.99, 61382.99, 0.1, 0.1],\n",
       " [101.7999999999999, 60519, 60397.96, 60397.96, 0.1, 0.1],\n",
       " [101.89999999999989, 60248, 60127.5, 60127.5, 0.1, 0.1],\n",
       " [101.99999999999989, 59541, 59421.92, 59421.92, 0.1, 0.1],\n",
       " [102.09999999999988, 60035, 59914.93, 59914.93, 0.1, 0.1],\n",
       " [102.19999999999987, 59059, 58940.88, 58940.88, 0.1, 0.1],\n",
       " [102.29999999999987, 60571, 60449.86, 60449.86, 0.1, 0.1],\n",
       " [102.39999999999986, 57700, 57584.6, 57584.6, 0.1, 0.1],\n",
       " [102.49999999999986, 56207, 56094.59, 56094.59, 0.1, 0.1],\n",
       " [102.59999999999985, 55934, 55822.13, 55822.13, 0.1, 0.1],\n",
       " [102.69999999999985, 56601, 56487.8, 56487.8, 0.1, 0.1],\n",
       " [102.79999999999984, 55334, 55223.33, 55223.33, 0.1, 0.1],\n",
       " [102.89999999999984, 54226, 54117.55, 54117.55, 0.1, 0.1],\n",
       " [102.99999999999983, 55318, 55207.36, 55207.36, 0.1, 0.1],\n",
       " [103.09999999999982, 55469, 55358.06, 55358.06, 0.1, 0.1],\n",
       " [103.19999999999982, 55815, 55703.37, 55703.37, 0.1, 0.1],\n",
       " [103.29999999999981, 55846, 55734.31, 55734.31, 0.1, 0.1],\n",
       " [103.3999999999998, 57149, 57034.7, 57034.7, 0.1, 0.1],\n",
       " [103.4999999999998, 55620, 55508.76, 55508.76, 0.1, 0.1],\n",
       " [103.5999999999998, 55851, 55739.3, 55739.3, 0.1, 0.1],\n",
       " [103.69999999999979, 54912, 54802.18, 54802.18, 0.1, 0.1],\n",
       " [103.79999999999978, 54860, 54750.28, 54750.28, 0.1, 0.1],\n",
       " [103.89999999999978, 58098, 57981.8, 57981.8, 0.1, 0.1],\n",
       " [103.99999999999977, 59218, 59099.56, 59099.56, 0.1, 0.1],\n",
       " [104.09999999999977, 58795, 58677.41, 58677.41, 0.1, 0.1],\n",
       " [104.19999999999976, 58426, 58309.15, 58309.15, 0.1, 0.1],\n",
       " [104.29999999999976, 58080, 57963.84, 57963.84, 0.1, 0.1],\n",
       " [104.39999999999975, 59718, 59598.56, 59598.56, 0.1, 0.1],\n",
       " [104.49999999999974, 57249, 57134.5, 57134.5, 0.1, 0.1],\n",
       " [104.59999999999974, 57555, 57439.89, 57439.89, 0.1, 0.1],\n",
       " [104.69999999999973, 57862, 57746.28, 57746.28, 0.1, 0.1],\n",
       " [104.79999999999973, 57882, 57766.24, 57766.24, 0.1, 0.1],\n",
       " [104.89999999999972, 59041, 58922.92, 58922.92, 0.1, 0.1],\n",
       " [104.99999999999972, 58967, 58849.07, 58849.07, 0.1, 0.1],\n",
       " [105.09999999999971, 58935, 58817.13, 58817.13, 0.1, 0.1],\n",
       " [105.20999999999971, 57898, 57782.2, 57782.2, 0.11, 0.1],\n",
       " [105.31999999999971, 58372, 58255.26, 58255.26, 0.11, 0.1],\n",
       " [105.42999999999971, 58823, 58705.35, 58705.35, 0.11, 0.1],\n",
       " [105.53999999999971, 59195, 59076.61, 59076.61, 0.11, 0.1],\n",
       " [105.64999999999971, 59160, 59041.68, 59041.68, 0.11, 0.1],\n",
       " [105.7599999999997, 59281, 59162.44, 59162.44, 0.11, 0.1],\n",
       " [105.8699999999997, 57947, 57831.11, 57831.11, 0.11, 0.1],\n",
       " [105.9799999999997, 57739, 57623.52, 57623.52, 0.11, 0.1],\n",
       " [106.0899999999997, 57056, 56941.89, 56941.89, 0.11, 0.1],\n",
       " [106.1999999999997, 56265, 56152.47, 56152.47, 0.11, 0.1],\n",
       " [106.3099999999997, 57058, 56943.88, 56943.88, 0.11, 0.1],\n",
       " [106.4199999999997, 57614, 57498.77, 57498.77, 0.11, 0.1],\n",
       " [106.5299999999997, 57347, 57232.31, 57232.31, 0.11, 0.1],\n",
       " [106.6399999999997, 57568, 57452.86, 57452.86, 0.11, 0.1],\n",
       " [106.7499999999997, 57541, 57425.92, 57425.92, 0.11, 0.1],\n",
       " [106.8599999999997, 57683, 57567.63, 57567.63, 0.11, 0.1],\n",
       " [106.7499999999997, 57099, 56984.8, 56984.8, -0.11, -0.1],\n",
       " [106.6399999999997, 55648, 55536.7, 55536.7, -0.11, -0.1],\n",
       " [106.5299999999997, 54128, 54019.74, 54019.74, -0.11, -0.1],\n",
       " [106.4199999999997, 54722, 54612.56, 54612.56, -0.11, -0.1],\n",
       " [106.3099999999997, 54135, 54026.73, 54026.73, -0.11, -0.1],\n",
       " [106.1999999999997, 54453, 54344.09, 54344.09, -0.11, -0.1],\n",
       " [106.0899999999997, 55082, 54971.84, 54971.84, -0.11, -0.1],\n",
       " [105.9799999999997, 54978, 54868.04, 54868.04, -0.11, -0.1],\n",
       " [106.0899999999997, 54390, 54281.22, 54281.22, 0.11, 0.1],\n",
       " [105.9799999999997, 54298, 54189.4, 54189.4, -0.11, -0.1],\n",
       " [106.0899999999997, 55750, 55638.5, 55638.5, 0.11, 0.1],\n",
       " [106.1999999999997, 56855, 56741.29, 56741.29, 0.11, 0.1],\n",
       " [106.3099999999997, 56290, 56177.42, 56177.42, 0.11, 0.1],\n",
       " [106.4199999999997, 54545, 54435.91, 54435.91, 0.11, 0.1],\n",
       " [106.5299999999997, 52200, 52095.6, 52095.6, 0.11, 0.1],\n",
       " [106.6399999999997, 52066, 51961.87, 51961.87, 0.11, 0.1],\n",
       " [106.7499999999997, 52188, 52083.62, 52083.62, 0.11, 0.1],\n",
       " [106.8599999999997, 52183, 52078.63, 52078.63, 0.11, 0.1],\n",
       " [106.9699999999997, 50982, 50880.04, 50880.04, 0.11, 0.1],\n",
       " [107.0799999999997, 52247, 52142.51, 52142.51, 0.11, 0.1],\n",
       " [107.1899999999997, 51458, 51355.08, 51355.08, 0.11, 0.1],\n",
       " [107.2999999999997, 52309, 52204.38, 52204.38, 0.11, 0.1],\n",
       " [107.4099999999997, 53577, 53469.85, 53469.85, 0.11, 0.1],\n",
       " [107.5199999999997, 52748, 52642.5, 52642.5, 0.11, 0.1],\n",
       " [107.6299999999997, 53273, 53166.45, 53166.45, 0.11, 0.1],\n",
       " [107.7399999999997, 53879, 53771.24, 53771.24, 0.11, 0.1],\n",
       " [107.8499999999997, 55398, 55287.2, 55287.2, 0.11, 0.1],\n",
       " [107.9599999999997, 54816, 54706.37, 54706.37, 0.11, 0.1],\n",
       " [108.0699999999997, 55129, 55018.74, 55018.74, 0.11, 0.1],\n",
       " [108.1799999999997, 54391, 54282.22, 54282.22, 0.11, 0.1],\n",
       " [108.2899999999997, 55162, 55051.68, 55051.68, 0.11, 0.1],\n",
       " [108.3999999999997, 55909, 55797.18, 55797.18, 0.11, 0.1],\n",
       " [108.50999999999969, 55935, 55823.13, 55823.13, 0.11, 0.1],\n",
       " [108.61999999999969, 56159, 56046.68, 56046.68, 0.11, 0.1],\n",
       " [108.72999999999969, 56230, 56117.54, 56117.54, 0.11, 0.1],\n",
       " [108.83999999999969, 55744, 55632.51, 55632.51, 0.11, 0.1],\n",
       " [108.94999999999969, 56371, 56258.26, 56258.26, 0.11, 0.1],\n",
       " [109.05999999999969, 55133, 55022.73, 55022.73, 0.11, 0.1],\n",
       " [109.16999999999969, 55857, 55745.29, 55745.29, 0.11, 0.1],\n",
       " [109.27999999999969, 55410, 55299.18, 55299.18, 0.11, 0.1],\n",
       " [109.38999999999969, 55959, 55847.08, 55847.08, 0.11, 0.1],\n",
       " [109.49999999999969, 57792, 57676.42, 57676.42, 0.11, 0.1],\n",
       " [109.60999999999969, 57655, 57539.69, 57539.69, 0.11, 0.1],\n",
       " [109.71999999999969, 57638, 57522.72, 57522.72, 0.11, 0.1],\n",
       " [109.82999999999969, 57482, 57367.04, 57367.04, 0.11, 0.1],\n",
       " [109.93999999999969, 57042, 56927.92, 56927.92, 0.11, 0.1],\n",
       " [110.04999999999968, 58126, 58009.75, 58009.75, 0.11, 0.1],\n",
       " [110.15999999999968, 59340, 59221.32, 59221.32, 0.11, 0.1],\n",
       " [110.26999999999968, 58655, 58537.69, 58537.69, 0.11, 0.1],\n",
       " [110.37999999999968, 58992, 58874.02, 58874.02, 0.11, 0.1],\n",
       " [110.48999999999968, 58723, 58605.55, 58605.55, 0.11, 0.1],\n",
       " [110.59999999999968, 58549, 58431.9, 58431.9, 0.11, 0.1],\n",
       " [110.70999999999968, 57905, 57789.19, 57789.19, 0.11, 0.1],\n",
       " [110.81999999999968, 57932, 57816.14, 57816.14, 0.11, 0.1],\n",
       " [110.92999999999968, 59407, 59288.19, 59288.19, 0.11, 0.1]]"
      ]
     },
     "execution_count": 33,
     "metadata": {},
     "output_type": "execute_result"
    }
   ],
   "source": [
    "history"
   ]
  }
 ],
 "metadata": {
  "accelerator": "GPU",
  "colab": {
   "gpuType": "T4",
   "provenance": [],
   "toc_visible": true
  },
  "gpuClass": "standard",
  "kernelspec": {
   "display_name": "Python 3",
   "name": "python3"
  },
  "language_info": {
   "codemirror_mode": {
    "name": "ipython",
    "version": 3
   },
   "file_extension": ".py",
   "mimetype": "text/x-python",
   "name": "python",
   "nbconvert_exporter": "python",
   "pygments_lexer": "ipython3",
   "version": "3.11.3"
  }
 },
 "nbformat": 4,
 "nbformat_minor": 0
}
